{
 "cells": [
  {
   "cell_type": "markdown",
   "id": "ca3069e2",
   "metadata": {},
   "source": [
    "# EDA (Exploratory Data Analysis) "
   ]
  },
  {
   "cell_type": "markdown",
   "id": "c2e6609c",
   "metadata": {},
   "source": [
    "Luego del proceso de Extracción, Transformación y Carga (ETL) que culminó en la creación del conjunto de datos consolidado **'homicidios_cleaned.csv y lesiones_cleaned.csv'** (productos de la unión de 'HECHOS' y 'VICTIMAS' de los archivos homicidios.xlsx y lesiones.xlsx), procederemos al Análisis Exploratorio de Datos (EDA) que no es más que un acto de inmersión en el compendio completo de eventos trágicos que queremos explorar y entender a fondo.\n",
    "\n",
    "Durante el EDA, nos sumergimos en este conjunto de datos para comprender su estructura, abordar posibles outliers, identificar duplicados y gestionar valores faltantes. La riqueza de este análisis radica en la capacidad de revelar patrones, tendencias y relaciones entre variables, todo respaldado por visualizaciones pertinentes. A través de este proceso, buscamos extraer información valiosa que impulse futuras investigaciones y acciones relacionadas con la seguridad vial en la Ciudad de Buenos Aires - Argentina."
   ]
  },
  {
   "cell_type": "markdown",
   "id": "d6313bad",
   "metadata": {},
   "source": [
    "## 1. Importar Librerías"
   ]
  },
  {
   "cell_type": "code",
   "execution_count": 1,
   "id": "6644c417",
   "metadata": {},
   "outputs": [],
   "source": [
    "import pandas as pd\n",
    "import matplotlib.pyplot as plt\n",
    "import seaborn as sns\n",
    "import warnings\n",
    "from functions import data_cleaning\n",
    "\n",
    "# Ignorar las advertencias de Seaborn\n",
    "warnings.filterwarnings(\"ignore\")"
   ]
  },
  {
   "cell_type": "markdown",
   "id": "8530be8b",
   "metadata": {},
   "source": [
    "## 2. Cargar Datos"
   ]
  },
  {
   "cell_type": "markdown",
   "id": "0c58f52c",
   "metadata": {},
   "source": [
    "En la etapa inicial de nuestro proceso, abordamos los archivos originales **'homicidios.xlsx' y 'lesiones.xlsx'**, cada uno compuesto por dos hojas de datos: HECHOS y VICTIMAS. Durante la fase de Extracción, Transformación y Carga (ETL), optamos por fusionar estas hojas mediante un merge, generando así dos archivos resultantes: **'homicidios_cleaned.csv' y 'lesiones_cleaned.csv'**. Estos archivos han sido sometidos a un proceso exhaustivo de tratamiento y limpieza de datos.\n",
    "\n",
    "Ahora, en esta fase de análisis exploratorio, se presenta la siguiente decisión estratégica. Consideraremos la opción de concatenar los archivos limpios **'homicidios_cleaned.csv' y 'lesiones_cleaned.csv'**, uniendo así la información de homicidios y lesiones bajo un conjunto de datos unificado denominado **'siniestros_viales'**. Esta decisión se tomará tras una evaluación más profunda de los datos, permitiéndonos obtener una perspectiva integral de los incidentes viales y sus implicaciones."
   ]
  },
  {
   "cell_type": "code",
   "execution_count": 2,
   "id": "bb96f644",
   "metadata": {},
   "outputs": [],
   "source": [
    "# Cargar datasets\n",
    "\n",
    "homicidios_df = pd.read_csv('homicidios_cleaned.csv')\n",
    "lesiones_df = pd.read_csv('lesiones_cleaned.csv')"
   ]
  },
  {
   "cell_type": "code",
   "execution_count": 3,
   "id": "8598a27a",
   "metadata": {},
   "outputs": [
    {
     "data": {
      "text/html": [
       "<div>\n",
       "<style scoped>\n",
       "    .dataframe tbody tr th:only-of-type {\n",
       "        vertical-align: middle;\n",
       "    }\n",
       "\n",
       "    .dataframe tbody tr th {\n",
       "        vertical-align: top;\n",
       "    }\n",
       "\n",
       "    .dataframe thead th {\n",
       "        text-align: right;\n",
       "    }\n",
       "</style>\n",
       "<table border=\"1\" class=\"dataframe\">\n",
       "  <thead>\n",
       "    <tr style=\"text-align: right;\">\n",
       "      <th></th>\n",
       "      <th>id_siniestro</th>\n",
       "      <th>nro_victimas</th>\n",
       "      <th>fecha</th>\n",
       "      <th>franja_hora</th>\n",
       "      <th>tipo_calle</th>\n",
       "      <th>comuna</th>\n",
       "      <th>longitud</th>\n",
       "      <th>latitud</th>\n",
       "      <th>vehiculo_victima</th>\n",
       "      <th>vehiculo_acusado</th>\n",
       "      <th>rol</th>\n",
       "      <th>sexo</th>\n",
       "      <th>edad</th>\n",
       "      <th>gravedad</th>\n",
       "    </tr>\n",
       "  </thead>\n",
       "  <tbody>\n",
       "    <tr>\n",
       "      <th>0</th>\n",
       "      <td>2016-0001</td>\n",
       "      <td>1</td>\n",
       "      <td>2016-01-01</td>\n",
       "      <td>4.0</td>\n",
       "      <td>avenida</td>\n",
       "      <td>8</td>\n",
       "      <td>-58.47533969</td>\n",
       "      <td>-34.68757022</td>\n",
       "      <td>moto</td>\n",
       "      <td>auto</td>\n",
       "      <td>conductor</td>\n",
       "      <td>masculino</td>\n",
       "      <td>19.0</td>\n",
       "      <td>fatal</td>\n",
       "    </tr>\n",
       "    <tr>\n",
       "      <th>1</th>\n",
       "      <td>2016-0002</td>\n",
       "      <td>1</td>\n",
       "      <td>2016-01-02</td>\n",
       "      <td>1.0</td>\n",
       "      <td>gral paz</td>\n",
       "      <td>9</td>\n",
       "      <td>-58.50877521</td>\n",
       "      <td>-34.66977709</td>\n",
       "      <td>auto</td>\n",
       "      <td>pasajeros</td>\n",
       "      <td>conductor</td>\n",
       "      <td>masculino</td>\n",
       "      <td>70.0</td>\n",
       "      <td>fatal</td>\n",
       "    </tr>\n",
       "    <tr>\n",
       "      <th>2</th>\n",
       "      <td>2016-0003</td>\n",
       "      <td>1</td>\n",
       "      <td>2016-01-03</td>\n",
       "      <td>7.0</td>\n",
       "      <td>avenida</td>\n",
       "      <td>1</td>\n",
       "      <td>-58.39040293</td>\n",
       "      <td>-34.63189362</td>\n",
       "      <td>moto</td>\n",
       "      <td>auto</td>\n",
       "      <td>conductor</td>\n",
       "      <td>masculino</td>\n",
       "      <td>30.0</td>\n",
       "      <td>fatal</td>\n",
       "    </tr>\n",
       "  </tbody>\n",
       "</table>\n",
       "</div>"
      ],
      "text/plain": [
       "  id_siniestro  nro_victimas       fecha  franja_hora tipo_calle  comuna  \\\n",
       "0    2016-0001             1  2016-01-01          4.0    avenida       8   \n",
       "1    2016-0002             1  2016-01-02          1.0   gral paz       9   \n",
       "2    2016-0003             1  2016-01-03          7.0    avenida       1   \n",
       "\n",
       "       longitud       latitud vehiculo_victima vehiculo_acusado        rol  \\\n",
       "0  -58.47533969  -34.68757022             moto             auto  conductor   \n",
       "1  -58.50877521  -34.66977709             auto        pasajeros  conductor   \n",
       "2  -58.39040293  -34.63189362             moto             auto  conductor   \n",
       "\n",
       "        sexo  edad gravedad  \n",
       "0  masculino  19.0    fatal  \n",
       "1  masculino  70.0    fatal  \n",
       "2  masculino  30.0    fatal  "
      ]
     },
     "execution_count": 3,
     "metadata": {},
     "output_type": "execute_result"
    }
   ],
   "source": [
    "homicidios_df.head(3)"
   ]
  },
  {
   "cell_type": "code",
   "execution_count": 4,
   "id": "353ea9fa",
   "metadata": {},
   "outputs": [
    {
     "data": {
      "text/html": [
       "<div>\n",
       "<style scoped>\n",
       "    .dataframe tbody tr th:only-of-type {\n",
       "        vertical-align: middle;\n",
       "    }\n",
       "\n",
       "    .dataframe tbody tr th {\n",
       "        vertical-align: top;\n",
       "    }\n",
       "\n",
       "    .dataframe thead th {\n",
       "        text-align: right;\n",
       "    }\n",
       "</style>\n",
       "<table border=\"1\" class=\"dataframe\">\n",
       "  <thead>\n",
       "    <tr style=\"text-align: right;\">\n",
       "      <th></th>\n",
       "      <th>id_siniestro</th>\n",
       "      <th>nro_victimas</th>\n",
       "      <th>fecha</th>\n",
       "      <th>franja_hora</th>\n",
       "      <th>tipo_calle</th>\n",
       "      <th>comuna</th>\n",
       "      <th>longitud</th>\n",
       "      <th>latitud</th>\n",
       "      <th>vehiculo_victima</th>\n",
       "      <th>vehiculo_acusado</th>\n",
       "      <th>rol</th>\n",
       "      <th>sexo</th>\n",
       "      <th>edad</th>\n",
       "      <th>gravedad</th>\n",
       "    </tr>\n",
       "  </thead>\n",
       "  <tbody>\n",
       "    <tr>\n",
       "      <th>0</th>\n",
       "      <td>LC-2019-0000179</td>\n",
       "      <td>1</td>\n",
       "      <td>2019-01-01 00:00:00</td>\n",
       "      <td>9.0</td>\n",
       "      <td>NaN</td>\n",
       "      <td>14.0</td>\n",
       "      <td>-58.408911</td>\n",
       "      <td>-34.559658</td>\n",
       "      <td>ciclista</td>\n",
       "      <td>NaN</td>\n",
       "      <td>NaN</td>\n",
       "      <td>NaN</td>\n",
       "      <td>NaN</td>\n",
       "      <td>leve</td>\n",
       "    </tr>\n",
       "    <tr>\n",
       "      <th>1</th>\n",
       "      <td>LC-2019-0000053</td>\n",
       "      <td>1</td>\n",
       "      <td>2019-01-01 00:00:00</td>\n",
       "      <td>1.0</td>\n",
       "      <td>NaN</td>\n",
       "      <td>8.0</td>\n",
       "      <td>-58.443510</td>\n",
       "      <td>-34.669125</td>\n",
       "      <td>auto</td>\n",
       "      <td>NaN</td>\n",
       "      <td>NaN</td>\n",
       "      <td>masculino</td>\n",
       "      <td>57.0</td>\n",
       "      <td>leve</td>\n",
       "    </tr>\n",
       "    <tr>\n",
       "      <th>2</th>\n",
       "      <td>LC-2019-0000063</td>\n",
       "      <td>1</td>\n",
       "      <td>2019-01-01 00:00:00</td>\n",
       "      <td>2.0</td>\n",
       "      <td>NaN</td>\n",
       "      <td>8.0</td>\n",
       "      <td>-58.468335</td>\n",
       "      <td>-34.677556</td>\n",
       "      <td>NaN</td>\n",
       "      <td>NaN</td>\n",
       "      <td>NaN</td>\n",
       "      <td>NaN</td>\n",
       "      <td>NaN</td>\n",
       "      <td>leve</td>\n",
       "    </tr>\n",
       "  </tbody>\n",
       "</table>\n",
       "</div>"
      ],
      "text/plain": [
       "      id_siniestro  nro_victimas                fecha  franja_hora tipo_calle  \\\n",
       "0  LC-2019-0000179             1  2019-01-01 00:00:00          9.0        NaN   \n",
       "1  LC-2019-0000053             1  2019-01-01 00:00:00          1.0        NaN   \n",
       "2  LC-2019-0000063             1  2019-01-01 00:00:00          2.0        NaN   \n",
       "\n",
       "   comuna   longitud    latitud vehiculo_victima vehiculo_acusado  rol  \\\n",
       "0    14.0 -58.408911 -34.559658         ciclista              NaN  NaN   \n",
       "1     8.0 -58.443510 -34.669125             auto              NaN  NaN   \n",
       "2     8.0 -58.468335 -34.677556              NaN              NaN  NaN   \n",
       "\n",
       "        sexo  edad gravedad  \n",
       "0        NaN   NaN     leve  \n",
       "1  masculino  57.0     leve  \n",
       "2        NaN   NaN     leve  "
      ]
     },
     "execution_count": 4,
     "metadata": {},
     "output_type": "execute_result"
    }
   ],
   "source": [
    "lesiones_df.head(3)"
   ]
  },
  {
   "cell_type": "markdown",
   "id": "319c0871",
   "metadata": {},
   "source": [
    "## 3. Exploración del Conjunto de Datos: 'homicidios_cleaned' , 'lesiones_cleaned'"
   ]
  },
  {
   "cell_type": "code",
   "execution_count": 5,
   "id": "0ccb1669",
   "metadata": {},
   "outputs": [
    {
     "data": {
      "text/plain": [
       "(717, 14)"
      ]
     },
     "execution_count": 5,
     "metadata": {},
     "output_type": "execute_result"
    }
   ],
   "source": [
    "homicidios_df.shape"
   ]
  },
  {
   "cell_type": "code",
   "execution_count": 6,
   "id": "4b39e6ae",
   "metadata": {},
   "outputs": [
    {
     "data": {
      "text/plain": [
       "(27599, 14)"
      ]
     },
     "execution_count": 6,
     "metadata": {},
     "output_type": "execute_result"
    }
   ],
   "source": [
    "lesiones_df.shape"
   ]
  },
  {
   "cell_type": "code",
   "execution_count": 7,
   "id": "192ae1b4",
   "metadata": {},
   "outputs": [
    {
     "name": "stdout",
     "output_type": "stream",
     "text": [
      "                  Nulos  Porcentaje\n",
      "id_siniestro          0    0.000000\n",
      "nro_victimas          0    0.000000\n",
      "fecha                 0    0.000000\n",
      "franja_hora           1    0.139470\n",
      "tipo_calle            0    0.000000\n",
      "comuna                0    0.000000\n",
      "longitud              0    0.000000\n",
      "latitud               0    0.000000\n",
      "vehiculo_victima      9    1.255230\n",
      "vehiculo_acusado     23    3.207810\n",
      "rol                  11    1.534170\n",
      "sexo                  6    0.836820\n",
      "edad                 53    7.391911\n",
      "gravedad              0    0.000000\n"
     ]
    }
   ],
   "source": [
    "# Obtener el conteo de nulos por columna de homicidios_df\n",
    "null_count = homicidios_df.isnull().sum()\n",
    "\n",
    "# Obtener el porcentaje de nulos por columna\n",
    "null_percentage = (homicidios_df.isnull().mean()) * 100\n",
    "\n",
    "# Crear un nuevo DataFrame con la información de conteo y porcentaje\n",
    "null_info = pd.DataFrame({\n",
    "    'Nulos': null_count,\n",
    "    'Porcentaje': null_percentage\n",
    "})\n",
    "\n",
    "# Imprimir el nuevo DataFrame\n",
    "print(null_info)"
   ]
  },
  {
   "cell_type": "code",
   "execution_count": 8,
   "id": "0bb392fd",
   "metadata": {},
   "outputs": [
    {
     "name": "stdout",
     "output_type": "stream",
     "text": [
      "                  Nulos  Porcentaje\n",
      "id_siniestro          0    0.000000\n",
      "nro_victimas          0    0.000000\n",
      "fecha                 0    0.000000\n",
      "franja_hora           9    0.032610\n",
      "tipo_calle        12880   46.668358\n",
      "comuna             1625    5.887894\n",
      "longitud           1657    6.003841\n",
      "latitud            1657    6.003841\n",
      "vehiculo_victima  12823   46.461828\n",
      "vehiculo_acusado  17919   64.926265\n",
      "rol               27599  100.000000\n",
      "sexo               2228    8.072756\n",
      "edad               4471   16.199862\n",
      "gravedad              0    0.000000\n"
     ]
    }
   ],
   "source": [
    "# Obtener el conteo de nulos por columna de lesiones_df\n",
    "null_count = lesiones_df.isnull().sum()\n",
    "\n",
    "# Obtener el porcentaje de nulos por columna\n",
    "null_percentage = (lesiones_df.isnull().mean()) * 100\n",
    "\n",
    "# Crear un nuevo DataFrame con la información de conteo y porcentaje\n",
    "null_info = pd.DataFrame({\n",
    "    'Nulos': null_count,\n",
    "    'Porcentaje': null_percentage\n",
    "})\n",
    "\n",
    "# Imprimir el nuevo DataFrame\n",
    "print(null_info)"
   ]
  },
  {
   "cell_type": "markdown",
   "id": "4e808c3f",
   "metadata": {},
   "source": [
    "Estoy fundamentando el análisis en la identificación de datos nulos los cuales fueron tratados durante la fase de ETL. Aunque no se logró la imputación completa de todos los nulos, opté por no eliminar registros con el fin de evitar resultados sesgados. Al observar los porcentajes obtenidos, destacamos:\n",
    "\n",
    "**Análisis del DataFrame 'homicidios_df':**\n",
    "- La columna 'franja_hora' tiene solo un valor nulo (0.14%), lo cual no es significativo.\n",
    "- Las columnas 'vehiculo_victima', 'vehiculo_acusado', 'rol', 'sexo' y 'edad' tienen algunos nulos, pero en términos porcentuales son relativamente bajos.\n",
    "\n",
    "**Análisis del DataFrame 'lesionados_df':**\n",
    "- Las columnas 'comuna', 'longitud', 'latitud', 'sexo', 'edad', 'tipo_calle', 'rol', 'vehiculo_victima', 'vehiculo_acusado', todas tienen nulos pero para las cuatro (4) últimas columnas mencionadas el porcentaje es considerable superando el 45%.\n",
    "\n",
    "\n",
    "Dado que ambos dataframes tienen información significativa sobre las víctimas y las circunstancias de los siniestros, sería beneficioso concatenarlos verticalmente para tener una visión más completa. Sin embargo, las columnas 'tipo_calle', 'rol', vehiculo_victima' y 'vehiculo_acusado' en función de su relevancia para los objetivos del análisis se abordarán sólo para los siniestros de gravedad fatal; es decir, de acá en adelante unificaré el conjunto de datos en el archivo **'siniestros_viales.csv'** y clasificaré las muestras en dos grupos: ***Siniestro vial con víctimas fatales:*** Todo aquel hecho vial en el que resulta al\n",
    "menos una persona fallecida, ya sea en el acto o hasta los treinta días subsiguientes, y ***Siniestro vial con lesionados:*** Todo aquel hecho vial que registra al menos un herido, y no registra ninguna víctima fatal. "
   ]
  },
  {
   "cell_type": "markdown",
   "id": "5d873083",
   "metadata": {},
   "source": [
    "### Transformaciones adicionales"
   ]
  },
  {
   "cell_type": "code",
   "execution_count": 9,
   "id": "72cdceaf",
   "metadata": {},
   "outputs": [
    {
     "name": "stdout",
     "output_type": "stream",
     "text": [
      "(28316, 14)\n"
     ]
    }
   ],
   "source": [
    "# Concatenar los dos DataFrames verticalmente \n",
    "\n",
    "siniestros = pd.concat([homicidios_df, lesiones_df], ignore_index=True)\n",
    "\n",
    "# Verifica el resultado\n",
    "print(siniestros.shape) "
   ]
  },
  {
   "cell_type": "code",
   "execution_count": 10,
   "id": "1593d98e",
   "metadata": {},
   "outputs": [],
   "source": [
    "# Convertir a entero\n",
    "\n",
    "columns_to_int = [ 'nro_victimas','franja_hora','comuna', 'edad']"
   ]
  },
  {
   "cell_type": "code",
   "execution_count": 11,
   "id": "f0564c0f",
   "metadata": {},
   "outputs": [],
   "source": [
    "# Convertir fecha\n",
    "\n",
    "columns_to_convert = ['fecha']"
   ]
  },
  {
   "cell_type": "code",
   "execution_count": 12,
   "id": "999ad342",
   "metadata": {},
   "outputs": [],
   "source": [
    "# Categorización de columnas\n",
    "\n",
    "columns_to_categorize = ['franja_hora', 'tipo_calle', 'comuna', 'vehiculo_victima', \n",
    "                         'vehiculo_acusado', 'rol', 'sexo', 'edad', 'gravedad']"
   ]
  },
  {
   "cell_type": "code",
   "execution_count": 13,
   "id": "1b1f8825",
   "metadata": {},
   "outputs": [],
   "source": [
    "# Invocamos la función 'data_cleaning' para que haga el proceso de transformación de los datos \n",
    "\n",
    "siniestros_df = data_cleaning(siniestros,\n",
    "                              convert_to_int_columns=columns_to_int, #Conversión entero\n",
    "                              convert_to_datetime=columns_to_convert, #COnversión fecha\n",
    "                              categorize_columns=columns_to_categorize # Categorizar columnas\n",
    "                             )"
   ]
  },
  {
   "cell_type": "code",
   "execution_count": 14,
   "id": "f576eff4",
   "metadata": {},
   "outputs": [],
   "source": [
    "# Almacenar el DataFrame unificado\n",
    "\n",
    "#siniestros_df.to_csv('siniestros_viales.csv', index=False)"
   ]
  },
  {
   "cell_type": "markdown",
   "id": "a56f0f3e",
   "metadata": {},
   "source": [
    "--------------------------------------------------------------------------------------------------------------------------------\n"
   ]
  },
  {
   "cell_type": "markdown",
   "id": "3480a8a9",
   "metadata": {},
   "source": [
    "## 4. Exploración del Conjunto de Datos Unificados: 'siniestros_viales'"
   ]
  },
  {
   "cell_type": "markdown",
   "id": "3e45acb5",
   "metadata": {},
   "source": [
    "### Visión inicial de los datos"
   ]
  },
  {
   "cell_type": "code",
   "execution_count": 14,
   "id": "121c3d5d",
   "metadata": {},
   "outputs": [
    {
     "data": {
      "text/html": [
       "<div>\n",
       "<style scoped>\n",
       "    .dataframe tbody tr th:only-of-type {\n",
       "        vertical-align: middle;\n",
       "    }\n",
       "\n",
       "    .dataframe tbody tr th {\n",
       "        vertical-align: top;\n",
       "    }\n",
       "\n",
       "    .dataframe thead th {\n",
       "        text-align: right;\n",
       "    }\n",
       "</style>\n",
       "<table border=\"1\" class=\"dataframe\">\n",
       "  <thead>\n",
       "    <tr style=\"text-align: right;\">\n",
       "      <th></th>\n",
       "      <th>id_siniestro</th>\n",
       "      <th>nro_victimas</th>\n",
       "      <th>fecha</th>\n",
       "      <th>franja_hora</th>\n",
       "      <th>tipo_calle</th>\n",
       "      <th>comuna</th>\n",
       "      <th>longitud</th>\n",
       "      <th>latitud</th>\n",
       "      <th>vehiculo_victima</th>\n",
       "      <th>vehiculo_acusado</th>\n",
       "      <th>rol</th>\n",
       "      <th>sexo</th>\n",
       "      <th>edad</th>\n",
       "      <th>gravedad</th>\n",
       "    </tr>\n",
       "  </thead>\n",
       "  <tbody>\n",
       "    <tr>\n",
       "      <th>0</th>\n",
       "      <td>2016-0001</td>\n",
       "      <td>1</td>\n",
       "      <td>2016-01-01</td>\n",
       "      <td>4</td>\n",
       "      <td>avenida</td>\n",
       "      <td>8</td>\n",
       "      <td>-58.47533969</td>\n",
       "      <td>-34.68757022</td>\n",
       "      <td>moto</td>\n",
       "      <td>auto</td>\n",
       "      <td>conductor</td>\n",
       "      <td>masculino</td>\n",
       "      <td>19</td>\n",
       "      <td>fatal</td>\n",
       "    </tr>\n",
       "    <tr>\n",
       "      <th>1</th>\n",
       "      <td>2016-0002</td>\n",
       "      <td>1</td>\n",
       "      <td>2016-01-02</td>\n",
       "      <td>1</td>\n",
       "      <td>gral paz</td>\n",
       "      <td>9</td>\n",
       "      <td>-58.50877521</td>\n",
       "      <td>-34.66977709</td>\n",
       "      <td>auto</td>\n",
       "      <td>pasajeros</td>\n",
       "      <td>conductor</td>\n",
       "      <td>masculino</td>\n",
       "      <td>70</td>\n",
       "      <td>fatal</td>\n",
       "    </tr>\n",
       "    <tr>\n",
       "      <th>2</th>\n",
       "      <td>2016-0003</td>\n",
       "      <td>1</td>\n",
       "      <td>2016-01-03</td>\n",
       "      <td>7</td>\n",
       "      <td>avenida</td>\n",
       "      <td>1</td>\n",
       "      <td>-58.39040293</td>\n",
       "      <td>-34.63189362</td>\n",
       "      <td>moto</td>\n",
       "      <td>auto</td>\n",
       "      <td>conductor</td>\n",
       "      <td>masculino</td>\n",
       "      <td>30</td>\n",
       "      <td>fatal</td>\n",
       "    </tr>\n",
       "  </tbody>\n",
       "</table>\n",
       "</div>"
      ],
      "text/plain": [
       "  id_siniestro  nro_victimas      fecha  franja_hora tipo_calle  comuna  \\\n",
       "0    2016-0001             1 2016-01-01            4    avenida       8   \n",
       "1    2016-0002             1 2016-01-02            1   gral paz       9   \n",
       "2    2016-0003             1 2016-01-03            7    avenida       1   \n",
       "\n",
       "       longitud       latitud vehiculo_victima vehiculo_acusado        rol  \\\n",
       "0  -58.47533969  -34.68757022             moto             auto  conductor   \n",
       "1  -58.50877521  -34.66977709             auto        pasajeros  conductor   \n",
       "2  -58.39040293  -34.63189362             moto             auto  conductor   \n",
       "\n",
       "        sexo  edad gravedad  \n",
       "0  masculino    19    fatal  \n",
       "1  masculino    70    fatal  \n",
       "2  masculino    30    fatal  "
      ]
     },
     "execution_count": 14,
     "metadata": {},
     "output_type": "execute_result"
    }
   ],
   "source": [
    "siniestros_df.head(3)"
   ]
  },
  {
   "cell_type": "code",
   "execution_count": 15,
   "id": "d69d3931",
   "metadata": {},
   "outputs": [
    {
     "name": "stdout",
     "output_type": "stream",
     "text": [
      "<class 'pandas.core.frame.DataFrame'>\n",
      "RangeIndex: 28316 entries, 0 to 28315\n",
      "Data columns (total 14 columns):\n",
      " #   Column            Non-Null Count  Dtype         \n",
      "---  ------            --------------  -----         \n",
      " 0   id_siniestro      28316 non-null  object        \n",
      " 1   nro_victimas      28316 non-null  Int64         \n",
      " 2   fecha             28316 non-null  datetime64[ns]\n",
      " 3   franja_hora       28306 non-null  Int64         \n",
      " 4   tipo_calle        15436 non-null  category      \n",
      " 5   comuna            26691 non-null  Int64         \n",
      " 6   longitud          26659 non-null  object        \n",
      " 7   latitud           26659 non-null  object        \n",
      " 8   vehiculo_victima  15484 non-null  category      \n",
      " 9   vehiculo_acusado  10374 non-null  category      \n",
      " 10  rol               706 non-null    category      \n",
      " 11  sexo              26082 non-null  category      \n",
      " 12  edad              23792 non-null  Int64         \n",
      " 13  gravedad          28316 non-null  category      \n",
      "dtypes: Int64(4), category(6), datetime64[ns](1), object(3)\n",
      "memory usage: 2.0+ MB\n"
     ]
    }
   ],
   "source": [
    "siniestros_df.info()"
   ]
  },
  {
   "cell_type": "markdown",
   "id": "00db5fcc",
   "metadata": {},
   "source": [
    "El conjunto de datos consta de 28,316 entradas y 14 columnas. A continuación, se presenta un resumen de las columnas disponibles:\n",
    "\n",
    "- **id_siniestro:** Identificador único del siniestro (tipo: object).\n",
    "\n",
    "- **nro_victimas:** Número de víctimas involucradas en el siniestro (tipo: int64).\n",
    "\n",
    "- **fecha:** Fecha del siniestro (tipo: datetime64[ns]).\n",
    "\n",
    "- **franja_hora:** Franja horaria en la que ocurrió el siniestro (tipo: category).\n",
    "\n",
    "- **tipo_calle:** Tipo de calle donde ocurrió el siniestro (tipo: category).\n",
    "\n",
    "- **comuna:** Comuna donde ocurrió el siniestro (tipo: category).\n",
    "\n",
    "- **longitud:** Longitud geográfica (tipo: object).\n",
    "\n",
    "- **latitud:** Latitud geográfica (tipo: object).\n",
    "\n",
    "- **vehiculo_victima:** Tipo de vehículo de la víctima (tipo: category).\n",
    "\n",
    "- **vehiculo_acusado:** Tipo de vehículo acusado (tipo: category).\n",
    "\n",
    "- **rol:** Rol específico (tipo: category).\n",
    "\n",
    "- **sexo:** Género de las personas involucradas (tipo: category).\n",
    "\n",
    "- **edad:** Edad de las personas involucradas (tipo: category).\n",
    "\n",
    "- **gravedad:** Nivel de gravedad del siniestro (tipo: category)."
   ]
  },
  {
   "cell_type": "markdown",
   "id": "3827440d",
   "metadata": {},
   "source": [
    "La categorización de ciertas columnas en nuestro conjunto de datos tiene varios beneficios en el proceso de análisis de datos. A continuación, se justifica la categorización de las columnas que seleccionamos:\n",
    "\n",
    "`franja_hora`: Categorizar la franja horaria puede ayudar a agrupar y analizar patrones en diferentes momentos del día, como las horas pico o las horas de menor incidencia. Facilita la identificación de tendencias temporales en la ocurrencia de siniestros viales.\n",
    "\n",
    "`tipo_calle`: La categorización del tipo de calle permite analizar la relación entre el tipo de vía y la frecuencia de siniestros. Puede revelar si ciertos tipos de calles están asociados con una mayor incidencia de incidentes viales.\n",
    "\n",
    "`comuna`: Categorizar las comunas puede simplificar el análisis geográfico y facilitar la identificación de áreas específicas con tasas de siniestralidad distintas. Ayuda a entender la distribución espacial de los incidentes en la ciudad.\n",
    "\n",
    "`vehiculo_victima y vehiculo_acusado`: Categorizar los tipos de vehículos involucrados proporciona una visión más clara de los escenarios de siniestros. Permite identificar si ciertos tipos de vehículos están más propensos a estar involucrados en accidentes y si hay patrones específicos de interacción entre vehículos.\n",
    "\n",
    "`rol`: La categorización de la columna \"rol\" simplifica el análisis de la relación entre roles específicos y la frecuencia de siniestros viales. Esta elección se justifica al buscar identificar patrones que indiquen si ciertos roles están asociados con una mayor incidencia de incidentes.\n",
    "\n",
    "`sexo`: La categorización del sexo facilita el análisis de la distribución de siniestros entre géneros. Puede ayudar a identificar si hay disparidades significativas en la frecuencia de incidentes viales entre diferentes grupos de género.\n",
    "\n",
    "`edad`: Categorizar la edad puede agrupar a las personas en rangos etarios, lo que simplifica el análisis demográfico. Permite identificar si ciertos grupos de edad están más afectados por los siniestros y si hay tendencias específicas en grupos de población.\n",
    "\n",
    "`gravedad`: La categorización de la gravedad permite clasificar los incidentes en diferentes niveles de seriedad. Facilita el análisis de la distribución de la gravedad de los siniestros y la identificación de patrones relacionados con lesiones o daños más severos."
   ]
  },
  {
   "cell_type": "markdown",
   "id": "e581b0a0",
   "metadata": {},
   "source": [
    "### Valores Faltantes"
   ]
  },
  {
   "cell_type": "code",
   "execution_count": 16,
   "id": "8342ae41",
   "metadata": {},
   "outputs": [
    {
     "data": {
      "image/png": "[encoded data removed]",
      "text/plain": [
       "<Figure size 1200x300 with 1 Axes>"
      ]
     },
     "metadata": {},
     "output_type": "display_data"
    },
    {
     "data": {
      "image/png": "[encoded data removed]",
      "text/plain": [
       "<Figure size 1800x600 with 2 Axes>"
      ]
     },
     "metadata": {},
     "output_type": "display_data"
    }
   ],
   "source": [
    "# Calcular el porcentaje de valores nulos por columna\n",
    "porcentaje_nulos = siniestros_df.isnull().mean() * 100\n",
    "\n",
    "# Filtrar por víctimas fatales\n",
    "fatal_df = siniestros_df[siniestros_df['gravedad'] == 'fatal']\n",
    "\n",
    "# Filtrar por lesionados (gravedad diferente de fatal)\n",
    "lesionados_df = siniestros_df[siniestros_df['gravedad'] != 'fatal']\n",
    "\n",
    "# Calcular el porcentaje de valores nulos por columna para víctimas fatales\n",
    "porcentaje_nulos_fatal = fatal_df.isnull().mean() * 100\n",
    "\n",
    "# Calcular el porcentaje de valores nulos por columna para lesionados\n",
    "porcentaje_nulos_lesionados = lesionados_df.isnull().mean() * 100\n",
    "\n",
    "# Crear una paleta de colores personalizada\n",
    "cmap_custom = sns.color_palette(['#440154', '#FFB400'])\n",
    "\n",
    "\n",
    "\n",
    "# Crear un mapa de calor (heatmap) de valores nulos con el porcentaje\n",
    "plt.figure(figsize=(12, 3))\n",
    "sns.heatmap(siniestros_df.isnull(), cbar=False, cmap=cmap_custom)\n",
    "\n",
    "# Agregar el texto con el porcentaje de nulos en cada columna\n",
    "for col, porcentaje in porcentaje_nulos.items():\n",
    "    plt.text(siniestros_df.columns.get_loc(col) + 0.5, 1200, f'{porcentaje:.2f}%', rotation=90,\n",
    "             va='center', ha='center', color='white')\n",
    "\n",
    "plt.title('Mapa de Calor de Valores Nulos con Porcentaje para Todas las Variables')\n",
    "plt.show()\n",
    "\n",
    "\n",
    "\n",
    "# Configurar subgráficos\n",
    "fig, axes = plt.subplots(1, 2, figsize=(18, 6))\n",
    "\n",
    "# Primer gráfico: Porcentaje de valores nulos para víctimas fatales\n",
    "sns.barplot(x=porcentaje_nulos_fatal.index, y=100 - porcentaje_nulos_fatal.values, color=cmap_custom[0], label='No Nulo', ax=axes[0])\n",
    "sns.barplot(x=porcentaje_nulos_fatal.index, y=porcentaje_nulos_fatal.values, color=cmap_custom[1], label='Nulo', ax=axes[0])\n",
    "axes[0].set_title('Porcentaje de Valores Nulos para Víctimas Fatales')\n",
    "axes[0].set_xticklabels(axes[0].get_xticklabels(), rotation=90)\n",
    "axes[0].legend()\n",
    "\n",
    "# Segundo gráfico: Porcentaje de valores nulos para lesionados\n",
    "sns.barplot(x=porcentaje_nulos_lesionados.index, y=100 - porcentaje_nulos_lesionados.values, color=cmap_custom[0], label='No Nulo', ax=axes[1])\n",
    "sns.barplot(x=porcentaje_nulos_lesionados.index, y=porcentaje_nulos_lesionados.values, color=cmap_custom[1], label='Nulo', ax=axes[1])\n",
    "axes[1].set_title('Porcentaje de Valores Nulos para Lesionados')\n",
    "axes[1].set_xticklabels(axes[1].get_xticklabels(), rotation=90)\n",
    "axes[1].legend()\n",
    "\n",
    "# Ajustar el espaciado entre subgráficos\n",
    "plt.tight_layout()\n",
    "\n",
    "# Mostrar la figura\n",
    "plt.show()"
   ]
  },
  {
   "cell_type": "markdown",
   "id": "b1fe45af",
   "metadata": {},
   "source": [
    "En la sección **3. Exploración del Conjunto de Datos: 'homicidios_cleaned', 'lesiones_cleaned'**, llevamos a cabo un análisis exhaustivo de los valores faltantes. En resumen, cuando abordemos las columnas con una cantidad significativa de valores ausentes, nos enfocaremos únicamente en los datos de siniestros viales con víctimas fatales, excluyendo así aquellos relacionados con siniestros viales con lesionados."
   ]
  },
  {
   "cell_type": "markdown",
   "id": "dad938b8",
   "metadata": {},
   "source": [
    "## Tratar Duplicados"
   ]
  },
  {
   "cell_type": "code",
   "execution_count": 16,
   "id": "3cbed10c",
   "metadata": {},
   "outputs": [
    {
     "name": "stdout",
     "output_type": "stream",
     "text": [
      "\n",
      "Filas duplicadas completas:\n"
     ]
    },
    {
     "data": {
      "text/html": [
       "<div>\n",
       "<style scoped>\n",
       "    .dataframe tbody tr th:only-of-type {\n",
       "        vertical-align: middle;\n",
       "    }\n",
       "\n",
       "    .dataframe tbody tr th {\n",
       "        vertical-align: top;\n",
       "    }\n",
       "\n",
       "    .dataframe thead th {\n",
       "        text-align: right;\n",
       "    }\n",
       "</style>\n",
       "<table border=\"1\" class=\"dataframe\">\n",
       "  <thead>\n",
       "    <tr style=\"text-align: right;\">\n",
       "      <th></th>\n",
       "      <th>id_siniestro</th>\n",
       "      <th>nro_victimas</th>\n",
       "      <th>fecha</th>\n",
       "      <th>franja_hora</th>\n",
       "      <th>tipo_calle</th>\n",
       "      <th>comuna</th>\n",
       "      <th>longitud</th>\n",
       "      <th>latitud</th>\n",
       "      <th>vehiculo_victima</th>\n",
       "      <th>vehiculo_acusado</th>\n",
       "      <th>rol</th>\n",
       "      <th>sexo</th>\n",
       "      <th>edad</th>\n",
       "      <th>gravedad</th>\n",
       "    </tr>\n",
       "  </thead>\n",
       "  <tbody>\n",
       "    <tr>\n",
       "      <th>27912</th>\n",
       "      <td>LC-2021-0628972</td>\n",
       "      <td>8</td>\n",
       "      <td>2021-12-17</td>\n",
       "      <td>16</td>\n",
       "      <td>calle</td>\n",
       "      <td>11</td>\n",
       "      <td>-58.462417</td>\n",
       "      <td>-34.610534</td>\n",
       "      <td>auto</td>\n",
       "      <td>auto</td>\n",
       "      <td>NaN</td>\n",
       "      <td>NaN</td>\n",
       "      <td>&lt;NA&gt;</td>\n",
       "      <td>leve</td>\n",
       "    </tr>\n",
       "    <tr>\n",
       "      <th>27913</th>\n",
       "      <td>LC-2021-0628972</td>\n",
       "      <td>8</td>\n",
       "      <td>2021-12-17</td>\n",
       "      <td>16</td>\n",
       "      <td>calle</td>\n",
       "      <td>11</td>\n",
       "      <td>-58.462417</td>\n",
       "      <td>-34.610534</td>\n",
       "      <td>auto</td>\n",
       "      <td>auto</td>\n",
       "      <td>NaN</td>\n",
       "      <td>NaN</td>\n",
       "      <td>&lt;NA&gt;</td>\n",
       "      <td>leve</td>\n",
       "    </tr>\n",
       "    <tr>\n",
       "      <th>27983</th>\n",
       "      <td>LC-2021-0631292</td>\n",
       "      <td>5</td>\n",
       "      <td>2021-12-19</td>\n",
       "      <td>12</td>\n",
       "      <td>calle</td>\n",
       "      <td>12</td>\n",
       "      <td>-58.484141</td>\n",
       "      <td>-34.552869</td>\n",
       "      <td>NaN</td>\n",
       "      <td>NaN</td>\n",
       "      <td>NaN</td>\n",
       "      <td>femenino</td>\n",
       "      <td>&lt;NA&gt;</td>\n",
       "      <td>grave</td>\n",
       "    </tr>\n",
       "    <tr>\n",
       "      <th>27986</th>\n",
       "      <td>LC-2021-0631295</td>\n",
       "      <td>6</td>\n",
       "      <td>2021-12-19</td>\n",
       "      <td>12</td>\n",
       "      <td>calle</td>\n",
       "      <td>8</td>\n",
       "      <td>-58.480641</td>\n",
       "      <td>-34.679476</td>\n",
       "      <td>NaN</td>\n",
       "      <td>NaN</td>\n",
       "      <td>NaN</td>\n",
       "      <td>femenino</td>\n",
       "      <td>50</td>\n",
       "      <td>leve</td>\n",
       "    </tr>\n",
       "    <tr>\n",
       "      <th>28029</th>\n",
       "      <td>LC-2021-0633935</td>\n",
       "      <td>3</td>\n",
       "      <td>2021-12-20</td>\n",
       "      <td>18</td>\n",
       "      <td>calle</td>\n",
       "      <td>7</td>\n",
       "      <td>-58.458854</td>\n",
       "      <td>-34.627548</td>\n",
       "      <td>peaton</td>\n",
       "      <td>camioneta</td>\n",
       "      <td>NaN</td>\n",
       "      <td>NaN</td>\n",
       "      <td>&lt;NA&gt;</td>\n",
       "      <td>leve</td>\n",
       "    </tr>\n",
       "  </tbody>\n",
       "</table>\n",
       "</div>"
      ],
      "text/plain": [
       "          id_siniestro  nro_victimas      fecha  franja_hora tipo_calle  \\\n",
       "27912  LC-2021-0628972             8 2021-12-17           16      calle   \n",
       "27913  LC-2021-0628972             8 2021-12-17           16      calle   \n",
       "27983  LC-2021-0631292             5 2021-12-19           12      calle   \n",
       "27986  LC-2021-0631295             6 2021-12-19           12      calle   \n",
       "28029  LC-2021-0633935             3 2021-12-20           18      calle   \n",
       "\n",
       "       comuna   longitud    latitud vehiculo_victima vehiculo_acusado  rol  \\\n",
       "27912      11 -58.462417 -34.610534             auto             auto  NaN   \n",
       "27913      11 -58.462417 -34.610534             auto             auto  NaN   \n",
       "27983      12 -58.484141 -34.552869              NaN              NaN  NaN   \n",
       "27986       8 -58.480641 -34.679476              NaN              NaN  NaN   \n",
       "28029       7 -58.458854 -34.627548           peaton        camioneta  NaN   \n",
       "\n",
       "           sexo  edad gravedad  \n",
       "27912       NaN  <NA>     leve  \n",
       "27913       NaN  <NA>     leve  \n",
       "27983  femenino  <NA>    grave  \n",
       "27986  femenino    50     leve  \n",
       "28029       NaN  <NA>     leve  "
      ]
     },
     "execution_count": 16,
     "metadata": {},
     "output_type": "execute_result"
    }
   ],
   "source": [
    "# Obtener filas duplicadas completas\n",
    "filas_duplicadas = siniestros_df[siniestros_df.duplicated()]\n",
    "print(\"\\nFilas duplicadas completas:\")\n",
    "filas_duplicadas.tail()"
   ]
  },
  {
   "cell_type": "code",
   "execution_count": 17,
   "id": "f61c54b8",
   "metadata": {},
   "outputs": [
    {
     "data": {
      "text/html": [
       "<div>\n",
       "<style scoped>\n",
       "    .dataframe tbody tr th:only-of-type {\n",
       "        vertical-align: middle;\n",
       "    }\n",
       "\n",
       "    .dataframe tbody tr th {\n",
       "        vertical-align: top;\n",
       "    }\n",
       "\n",
       "    .dataframe thead th {\n",
       "        text-align: right;\n",
       "    }\n",
       "</style>\n",
       "<table border=\"1\" class=\"dataframe\">\n",
       "  <thead>\n",
       "    <tr style=\"text-align: right;\">\n",
       "      <th></th>\n",
       "      <th>id_siniestro</th>\n",
       "      <th>nro_victimas</th>\n",
       "      <th>fecha</th>\n",
       "      <th>franja_hora</th>\n",
       "      <th>tipo_calle</th>\n",
       "      <th>comuna</th>\n",
       "      <th>longitud</th>\n",
       "      <th>latitud</th>\n",
       "      <th>vehiculo_victima</th>\n",
       "      <th>vehiculo_acusado</th>\n",
       "      <th>rol</th>\n",
       "      <th>sexo</th>\n",
       "      <th>edad</th>\n",
       "      <th>gravedad</th>\n",
       "    </tr>\n",
       "  </thead>\n",
       "  <tbody>\n",
       "    <tr>\n",
       "      <th>28028</th>\n",
       "      <td>LC-2021-0633935</td>\n",
       "      <td>3</td>\n",
       "      <td>2021-12-20</td>\n",
       "      <td>18</td>\n",
       "      <td>calle</td>\n",
       "      <td>7</td>\n",
       "      <td>-58.458854</td>\n",
       "      <td>-34.627548</td>\n",
       "      <td>peaton</td>\n",
       "      <td>camioneta</td>\n",
       "      <td>NaN</td>\n",
       "      <td>NaN</td>\n",
       "      <td>&lt;NA&gt;</td>\n",
       "      <td>leve</td>\n",
       "    </tr>\n",
       "    <tr>\n",
       "      <th>28029</th>\n",
       "      <td>LC-2021-0633935</td>\n",
       "      <td>3</td>\n",
       "      <td>2021-12-20</td>\n",
       "      <td>18</td>\n",
       "      <td>calle</td>\n",
       "      <td>7</td>\n",
       "      <td>-58.458854</td>\n",
       "      <td>-34.627548</td>\n",
       "      <td>peaton</td>\n",
       "      <td>camioneta</td>\n",
       "      <td>NaN</td>\n",
       "      <td>NaN</td>\n",
       "      <td>&lt;NA&gt;</td>\n",
       "      <td>leve</td>\n",
       "    </tr>\n",
       "    <tr>\n",
       "      <th>28030</th>\n",
       "      <td>LC-2021-0633935</td>\n",
       "      <td>3</td>\n",
       "      <td>2021-12-20</td>\n",
       "      <td>18</td>\n",
       "      <td>calle</td>\n",
       "      <td>7</td>\n",
       "      <td>-58.458854</td>\n",
       "      <td>-34.627548</td>\n",
       "      <td>peaton</td>\n",
       "      <td>camioneta</td>\n",
       "      <td>NaN</td>\n",
       "      <td>femenino</td>\n",
       "      <td>35</td>\n",
       "      <td>leve</td>\n",
       "    </tr>\n",
       "  </tbody>\n",
       "</table>\n",
       "</div>"
      ],
      "text/plain": [
       "          id_siniestro  nro_victimas      fecha  franja_hora tipo_calle  \\\n",
       "28028  LC-2021-0633935             3 2021-12-20           18      calle   \n",
       "28029  LC-2021-0633935             3 2021-12-20           18      calle   \n",
       "28030  LC-2021-0633935             3 2021-12-20           18      calle   \n",
       "\n",
       "       comuna   longitud    latitud vehiculo_victima vehiculo_acusado  rol  \\\n",
       "28028       7 -58.458854 -34.627548           peaton        camioneta  NaN   \n",
       "28029       7 -58.458854 -34.627548           peaton        camioneta  NaN   \n",
       "28030       7 -58.458854 -34.627548           peaton        camioneta  NaN   \n",
       "\n",
       "           sexo  edad gravedad  \n",
       "28028       NaN  <NA>     leve  \n",
       "28029       NaN  <NA>     leve  \n",
       "28030  femenino    35     leve  "
      ]
     },
     "execution_count": 17,
     "metadata": {},
     "output_type": "execute_result"
    }
   ],
   "source": [
    "# Consulta aleatoria para confirmar la duplicidad de registros\n",
    "\n",
    "id_siniestro_consulta = \"LC-2021-0633935\"\n",
    "consulta_resultados = siniestros_df[siniestros_df['id_siniestro'] == id_siniestro_consulta]\n",
    "\n",
    "consulta_resultados"
   ]
  },
  {
   "cell_type": "markdown",
   "id": "36f3dcb0",
   "metadata": {},
   "source": [
    "Al examinar los registros identificados como duplicados, se evidenció que correspondían a siniestros que involucraban más de una víctima en un mismo incidente. Para validar esta observación, se seleccionó aleatoriamente un 'id_siniestro' (LC-2021-0633935) y se confirmó que no se trataba de duplicados genuinos. Con el objetivo de normalizar los datos, se implementa la estrategia de introducir una nueva columna 'id_victima' que sirviera como identificador único para cada víctima en un siniestro. En otras palabras, se asignará un número secuencial a cada víctima dentro de un incidente para diferenciarlas."
   ]
  },
  {
   "cell_type": "code",
   "execution_count": 19,
   "id": "9da0376a",
   "metadata": {},
   "outputs": [
    {
     "name": "stdout",
     "output_type": "stream",
     "text": [
      "DataFrame con nueva columna 'id_victima':\n"
     ]
    },
    {
     "data": {
      "text/html": [
       "<div>\n",
       "<style scoped>\n",
       "    .dataframe tbody tr th:only-of-type {\n",
       "        vertical-align: middle;\n",
       "    }\n",
       "\n",
       "    .dataframe tbody tr th {\n",
       "        vertical-align: top;\n",
       "    }\n",
       "\n",
       "    .dataframe thead th {\n",
       "        text-align: right;\n",
       "    }\n",
       "</style>\n",
       "<table border=\"1\" class=\"dataframe\">\n",
       "  <thead>\n",
       "    <tr style=\"text-align: right;\">\n",
       "      <th></th>\n",
       "      <th>id_siniestro</th>\n",
       "      <th>nro_victimas</th>\n",
       "      <th>fecha</th>\n",
       "      <th>franja_hora</th>\n",
       "      <th>tipo_calle</th>\n",
       "      <th>comuna</th>\n",
       "      <th>longitud</th>\n",
       "      <th>latitud</th>\n",
       "      <th>vehiculo_victima</th>\n",
       "      <th>vehiculo_acusado</th>\n",
       "      <th>rol</th>\n",
       "      <th>sexo</th>\n",
       "      <th>edad</th>\n",
       "      <th>gravedad</th>\n",
       "      <th>id_victima</th>\n",
       "    </tr>\n",
       "  </thead>\n",
       "  <tbody>\n",
       "    <tr>\n",
       "      <th>0</th>\n",
       "      <td>2016-0001</td>\n",
       "      <td>1</td>\n",
       "      <td>2016-01-01</td>\n",
       "      <td>4</td>\n",
       "      <td>avenida</td>\n",
       "      <td>8</td>\n",
       "      <td>-58.47533969</td>\n",
       "      <td>-34.68757022</td>\n",
       "      <td>moto</td>\n",
       "      <td>auto</td>\n",
       "      <td>conductor</td>\n",
       "      <td>masculino</td>\n",
       "      <td>19</td>\n",
       "      <td>fatal</td>\n",
       "      <td>1</td>\n",
       "    </tr>\n",
       "    <tr>\n",
       "      <th>1</th>\n",
       "      <td>2016-0002</td>\n",
       "      <td>1</td>\n",
       "      <td>2016-01-02</td>\n",
       "      <td>1</td>\n",
       "      <td>gral paz</td>\n",
       "      <td>9</td>\n",
       "      <td>-58.50877521</td>\n",
       "      <td>-34.66977709</td>\n",
       "      <td>auto</td>\n",
       "      <td>pasajeros</td>\n",
       "      <td>conductor</td>\n",
       "      <td>masculino</td>\n",
       "      <td>70</td>\n",
       "      <td>fatal</td>\n",
       "      <td>1</td>\n",
       "    </tr>\n",
       "    <tr>\n",
       "      <th>2</th>\n",
       "      <td>2016-0003</td>\n",
       "      <td>1</td>\n",
       "      <td>2016-01-03</td>\n",
       "      <td>7</td>\n",
       "      <td>avenida</td>\n",
       "      <td>1</td>\n",
       "      <td>-58.39040293</td>\n",
       "      <td>-34.63189362</td>\n",
       "      <td>moto</td>\n",
       "      <td>auto</td>\n",
       "      <td>conductor</td>\n",
       "      <td>masculino</td>\n",
       "      <td>30</td>\n",
       "      <td>fatal</td>\n",
       "      <td>1</td>\n",
       "    </tr>\n",
       "    <tr>\n",
       "      <th>3</th>\n",
       "      <td>2016-0004</td>\n",
       "      <td>1</td>\n",
       "      <td>2016-01-10</td>\n",
       "      <td>0</td>\n",
       "      <td>avenida</td>\n",
       "      <td>8</td>\n",
       "      <td>-58.46503904</td>\n",
       "      <td>-34.68092974</td>\n",
       "      <td>moto</td>\n",
       "      <td>NaN</td>\n",
       "      <td>conductor</td>\n",
       "      <td>masculino</td>\n",
       "      <td>18</td>\n",
       "      <td>fatal</td>\n",
       "      <td>1</td>\n",
       "    </tr>\n",
       "    <tr>\n",
       "      <th>4</th>\n",
       "      <td>2016-0005</td>\n",
       "      <td>1</td>\n",
       "      <td>2016-01-21</td>\n",
       "      <td>5</td>\n",
       "      <td>avenida</td>\n",
       "      <td>1</td>\n",
       "      <td>-58.38718297</td>\n",
       "      <td>-34.62246630</td>\n",
       "      <td>moto</td>\n",
       "      <td>pasajeros</td>\n",
       "      <td>conductor</td>\n",
       "      <td>masculino</td>\n",
       "      <td>29</td>\n",
       "      <td>fatal</td>\n",
       "      <td>1</td>\n",
       "    </tr>\n",
       "  </tbody>\n",
       "</table>\n",
       "</div>"
      ],
      "text/plain": [
       "  id_siniestro  nro_victimas      fecha  franja_hora tipo_calle  comuna  \\\n",
       "0    2016-0001             1 2016-01-01            4    avenida       8   \n",
       "1    2016-0002             1 2016-01-02            1   gral paz       9   \n",
       "2    2016-0003             1 2016-01-03            7    avenida       1   \n",
       "3    2016-0004             1 2016-01-10            0    avenida       8   \n",
       "4    2016-0005             1 2016-01-21            5    avenida       1   \n",
       "\n",
       "       longitud       latitud vehiculo_victima vehiculo_acusado        rol  \\\n",
       "0  -58.47533969  -34.68757022             moto             auto  conductor   \n",
       "1  -58.50877521  -34.66977709             auto        pasajeros  conductor   \n",
       "2  -58.39040293  -34.63189362             moto             auto  conductor   \n",
       "3  -58.46503904  -34.68092974             moto              NaN  conductor   \n",
       "4  -58.38718297  -34.62246630             moto        pasajeros  conductor   \n",
       "\n",
       "        sexo  edad gravedad  id_victima  \n",
       "0  masculino    19    fatal           1  \n",
       "1  masculino    70    fatal           1  \n",
       "2  masculino    30    fatal           1  \n",
       "3  masculino    18    fatal           1  \n",
       "4  masculino    29    fatal           1  "
      ]
     },
     "execution_count": 19,
     "metadata": {},
     "output_type": "execute_result"
    }
   ],
   "source": [
    "# Crear una nueva columna para identificar a cada víctima\n",
    "siniestros_df['id_victima'] = siniestros_df.groupby('id_siniestro').cumcount() + 1\n",
    "\n",
    "# Mostrar el DataFrame con la nueva columna\n",
    "print(\"DataFrame con nueva columna 'id_victima':\")\n",
    "siniestros_df.head()"
   ]
  },
  {
   "cell_type": "code",
   "execution_count": 21,
   "id": "981e9c6d",
   "metadata": {},
   "outputs": [
    {
     "name": "stdout",
     "output_type": "stream",
     "text": [
      "Total de registros duplicados en siniestro_df: 0\n"
     ]
    }
   ],
   "source": [
    "# Conteo de duplicados para verificar nuevamente\n",
    "\n",
    "duplicados_count = siniestros_df.duplicated().sum()\n",
    "print(f\"Total de registros duplicados en siniestro_df: {duplicados_count}\")"
   ]
  },
  {
   "cell_type": "code",
   "execution_count": 22,
   "id": "89724495",
   "metadata": {},
   "outputs": [],
   "source": [
    "# Almacenar el DataFrame unificado\n",
    "\n",
    "siniestros_df.to_csv('siniestros_viales.csv', index=False)"
   ]
  },
  {
   "cell_type": "code",
   "execution_count": null,
   "id": "9ece9aa4",
   "metadata": {},
   "outputs": [],
   "source": []
  },
  {
   "cell_type": "code",
   "execution_count": null,
   "id": "d927ab5a",
   "metadata": {},
   "outputs": [],
   "source": []
  },
  {
   "cell_type": "code",
   "execution_count": null,
   "id": "1ef50721",
   "metadata": {},
   "outputs": [],
   "source": []
  },
  {
   "cell_type": "code",
   "execution_count": 17,
   "id": "5af5109f",
   "metadata": {},
   "outputs": [
    {
     "data": {
      "text/html": [
       "<div>\n",
       "<style scoped>\n",
       "    .dataframe tbody tr th:only-of-type {\n",
       "        vertical-align: middle;\n",
       "    }\n",
       "\n",
       "    .dataframe tbody tr th {\n",
       "        vertical-align: top;\n",
       "    }\n",
       "\n",
       "    .dataframe thead th {\n",
       "        text-align: right;\n",
       "    }\n",
       "</style>\n",
       "<table border=\"1\" class=\"dataframe\">\n",
       "  <thead>\n",
       "    <tr style=\"text-align: right;\">\n",
       "      <th></th>\n",
       "      <th>nro_victimas</th>\n",
       "      <th>franja_hora</th>\n",
       "      <th>comuna</th>\n",
       "      <th>edad</th>\n",
       "    </tr>\n",
       "  </thead>\n",
       "  <tbody>\n",
       "    <tr>\n",
       "      <th>count</th>\n",
       "      <td>28316.0</td>\n",
       "      <td>28306.0</td>\n",
       "      <td>26691.0</td>\n",
       "      <td>23792.0</td>\n",
       "    </tr>\n",
       "    <tr>\n",
       "      <th>mean</th>\n",
       "      <td>1.4133</td>\n",
       "      <td>13.495831</td>\n",
       "      <td>7.929527</td>\n",
       "      <td>37.849445</td>\n",
       "    </tr>\n",
       "    <tr>\n",
       "      <th>std</th>\n",
       "      <td>1.076291</td>\n",
       "      <td>5.635586</td>\n",
       "      <td>4.545744</td>\n",
       "      <td>15.379509</td>\n",
       "    </tr>\n",
       "    <tr>\n",
       "      <th>min</th>\n",
       "      <td>0.0</td>\n",
       "      <td>0.0</td>\n",
       "      <td>0.0</td>\n",
       "      <td>0.0</td>\n",
       "    </tr>\n",
       "    <tr>\n",
       "      <th>25%</th>\n",
       "      <td>1.0</td>\n",
       "      <td>10.0</td>\n",
       "      <td>4.0</td>\n",
       "      <td>27.0</td>\n",
       "    </tr>\n",
       "    <tr>\n",
       "      <th>50%</th>\n",
       "      <td>1.0</td>\n",
       "      <td>14.0</td>\n",
       "      <td>8.0</td>\n",
       "      <td>35.0</td>\n",
       "    </tr>\n",
       "    <tr>\n",
       "      <th>75%</th>\n",
       "      <td>1.0</td>\n",
       "      <td>18.0</td>\n",
       "      <td>12.0</td>\n",
       "      <td>46.0</td>\n",
       "    </tr>\n",
       "    <tr>\n",
       "      <th>max</th>\n",
       "      <td>16.0</td>\n",
       "      <td>23.0</td>\n",
       "      <td>15.0</td>\n",
       "      <td>100.0</td>\n",
       "    </tr>\n",
       "  </tbody>\n",
       "</table>\n",
       "</div>"
      ],
      "text/plain": [
       "       nro_victimas  franja_hora    comuna       edad\n",
       "count       28316.0      28306.0   26691.0    23792.0\n",
       "mean         1.4133    13.495831  7.929527  37.849445\n",
       "std        1.076291     5.635586  4.545744  15.379509\n",
       "min             0.0          0.0       0.0        0.0\n",
       "25%             1.0         10.0       4.0       27.0\n",
       "50%             1.0         14.0       8.0       35.0\n",
       "75%             1.0         18.0      12.0       46.0\n",
       "max            16.0         23.0      15.0      100.0"
      ]
     },
     "execution_count": 17,
     "metadata": {},
     "output_type": "execute_result"
    }
   ],
   "source": [
    "siniestros_df.describe()"
   ]
  },
  {
   "cell_type": "markdown",
   "id": "613dc768",
   "metadata": {},
   "source": [
    "Número de Víctimas: El promedio es aproximadamente 1.41 víctimas por siniestro, con un rango de 0 a 16.\n",
    "\n",
    "Franja Horaria: La franja horaria promedio es 13.50, con un rango de 0 a 23.\n",
    "\n",
    "Comuna: El promedio de la comuna es 7.93, con un rango de 0 a 15.\n",
    "\n",
    "Edad: La edad promedio de las personas involucradas es 37.85, con un rango de 0 a 100 y una desviación estándar de 15.38."
   ]
  },
  {
   "cell_type": "code",
   "execution_count": null,
   "id": "2818a327",
   "metadata": {},
   "outputs": [],
   "source": []
  },
  {
   "cell_type": "code",
   "execution_count": null,
   "id": "ebb3fcb0",
   "metadata": {},
   "outputs": [],
   "source": [
    "Tratar Duplicados"
   ]
  },
  {
   "cell_type": "code",
   "execution_count": null,
   "id": "9a1dc78c",
   "metadata": {},
   "outputs": [],
   "source": [
    "Identifica y elimina duplicados si existen en cualquiera de los conjuntos de datos."
   ]
  },
  {
   "cell_type": "code",
   "execution_count": null,
   "id": "c5fed635",
   "metadata": {},
   "outputs": [],
   "source": [
    "# Tratar duplicados\n",
    "hechos_df.drop_duplicates(inplace=True)\n",
    "victimas_df.drop_duplicates(inplace=True)\n",
    "lesiones_df.drop_duplicates(inplace=True)"
   ]
  },
  {
   "cell_type": "code",
   "execution_count": null,
   "id": "a8c6e65c",
   "metadata": {},
   "outputs": [],
   "source": [
    "Manejar Valores Faltantes"
   ]
  },
  {
   "cell_type": "code",
   "execution_count": null,
   "id": "80066270",
   "metadata": {},
   "outputs": [],
   "source": [
    "Analiza la presencia de valores nulos y toma decisiones sobre cómo manejarlos."
   ]
  },
  {
   "cell_type": "code",
   "execution_count": null,
   "id": "a8927514",
   "metadata": {},
   "outputs": [],
   "source": [
    "# Verificar valores nulos\n",
    "print(\"Hechos DF - Nulos:\")\n",
    "print(hechos_df.isnull().sum())\n",
    "\n",
    "print(\"Víctimas DF - Nulos:\")\n",
    "print(victimas_df.isnull().sum())\n",
    "\n",
    "print(\"Lesiones DF - Nulos:\")\n",
    "print(lesiones_df.isnull().sum())\n"
   ]
  },
  {
   "cell_type": "code",
   "execution_count": null,
   "id": "71779b67",
   "metadata": {},
   "outputs": [],
   "source": [
    "Análisis de Outliers"
   ]
  },
  {
   "cell_type": "code",
   "execution_count": null,
   "id": "cdd3ea5f",
   "metadata": {},
   "outputs": [],
   "source": [
    "Utiliza gráficos como boxplot o scatterplot para identificar posibles outliers en columnas numéricas."
   ]
  },
  {
   "cell_type": "code",
   "execution_count": null,
   "id": "ec4cc94e",
   "metadata": {},
   "outputs": [],
   "source": [
    "import seaborn as sns\n",
    "import matplotlib.pyplot as plt\n",
    "\n",
    "# Análisis de outliers\n",
    "sns.boxplot(x=hechos_df[\"EDAD\"])\n",
    "plt.title(\"Boxplot de Edades en Hechos\")\n",
    "plt.show()\n"
   ]
  },
  {
   "cell_type": "code",
   "execution_count": null,
   "id": "7bdac200",
   "metadata": {},
   "outputs": [],
   "source": [
    "Visualización de Datos"
   ]
  },
  {
   "cell_type": "code",
   "execution_count": null,
   "id": "c3bad0c3",
   "metadata": {},
   "outputs": [],
   "source": [
    "Crea gráficos relevantes para el análisis (histogramas, gráficos de barras, etc.) para comprender mejor la distribución de los datos."
   ]
  },
  {
   "cell_type": "code",
   "execution_count": null,
   "id": "158ca82e",
   "metadata": {},
   "outputs": [],
   "source": [
    "# Histograma de Edades en Hechos\n",
    "plt.hist(hechos_df[\"EDAD\"], bins=20, color='blue', edgecolor='black')\n",
    "plt.title('Distribución de Edades en Hechos')\n",
    "plt.xlabel('Edad')\n",
    "plt.ylabel('Frecuencia')\n",
    "plt.show()\n"
   ]
  },
  {
   "cell_type": "code",
   "execution_count": null,
   "id": "137a1e70",
   "metadata": {},
   "outputs": [],
   "source": [
    "Conclusiones y Documentación:"
   ]
  },
  {
   "cell_type": "code",
   "execution_count": null,
   "id": "589a4acc",
   "metadata": {},
   "outputs": [],
   "source": [
    "Añade celdas de Markdown para documentar tus análisis, decisiones y conclusiones. Justifica cualquier acción tomada."
   ]
  },
  {
   "cell_type": "code",
   "execution_count": null,
   "id": "67c82fe8",
   "metadata": {},
   "outputs": [],
   "source": [
    "## Conclusiones EDA:\n",
    "\n",
    "- Se identificaron y eliminaron duplicados en los conjuntos de datos.\n",
    "- Se realizó un análisis de valores nulos y se tomaron decisiones sobre cómo manejarlos.\n",
    "- Se visualizaron gráficos de outliers y distribuciones para entender mejor la naturaleza de los datos.\n",
    "- ...\n",
    "\n"
   ]
  },
  {
   "cell_type": "code",
   "execution_count": null,
   "id": "aecee785",
   "metadata": {},
   "outputs": [],
   "source": [
    "siniestros_df"
   ]
  },
  {
   "cell_type": "code",
   "execution_count": null,
   "id": "c2d64172",
   "metadata": {},
   "outputs": [],
   "source": [
    "Identificación de Patrones:\n",
    "Utiliza gráficos y estadísticas para identificar patrones en los datos. Puedes utilizar gráficos de dispersión, histogramas y tablas de contingencia.\n",
    "python\n",
    "Copy code\n",
    "import matplotlib.pyplot as plt\n",
    "import seaborn as sns\n",
    "\n",
    "# Gráfico de dispersión para edad y número de víctimas\n",
    "sns.scatterplot(x='edad', y='nro_victimas', data=merged_df)\n",
    "plt.title('Relación entre Edad y Número de Víctimas')\n",
    "plt.show()"
   ]
  },
  {
   "cell_type": "code",
   "execution_count": null,
   "id": "9658d976",
   "metadata": {},
   "outputs": [],
   "source": [
    " Análisis de Áreas Críticas:\n",
    "Examina las áreas geográficas (comuna, longitud, latitud) para identificar áreas críticas.\n",
    "python\n",
    "Copy code\n",
    "# Gráfico de ubicación geográfica\n",
    "sns.scatterplot(x='longitud', y='latitud', hue='comuna', data=merged_df)\n",
    "plt.title('Ubicación Geográfica por Comuna')\n",
    "plt.show()"
   ]
  },
  {
   "cell_type": "code",
   "execution_count": null,
   "id": "4c376293",
   "metadata": {},
   "outputs": [],
   "source": [
    "Seguimiento Temporal:\n",
    "Realiza un análisis temporal para identificar patrones a lo largo del tiempo.\n",
    "python\n",
    "Copy code\n",
    "# Convertir la columna fecha a tipo datetime\n",
    "merged_df['fecha'] = pd.to_datetime(merged_df['fecha'])\n",
    "\n",
    "# Gráfico de tendencia temporal\n",
    "sns.lineplot(x='fecha', y='nro_victimas', data=merged_df)\n",
    "plt.title('Tendencia Temporal de Número de Víctimas')\n",
    "plt.show()"
   ]
  },
  {
   "cell_type": "code",
   "execution_count": null,
   "id": "2b3617c2",
   "metadata": {},
   "outputs": [],
   "source": [
    "Análisis Específico:\n",
    "Analiza las circunstancias específicas de los incidentes, como el tipo de calle, para identificar factores de riesgo.\n",
    "python\n",
    "Copy code\n",
    "# Análisis por tipo de calle\n",
    "sns.countplot(x='tipo_calle', data=merged_df)\n",
    "plt.title('Distribución de Incidentes por Tipo de Calle')\n",
    "plt.show()"
   ]
  },
  {
   "cell_type": "code",
   "execution_count": null,
   "id": "5c62856e",
   "metadata": {},
   "outputs": [],
   "source": [
    "Identificación de Grupos de Riesgo:\n",
    "Identifica grupos de riesgo mediante análisis por género, rol y otras variables relevantes.\n",
    "python\n",
    "Copy code\n",
    "# Análisis por rol y sexo\n",
    "sns.countplot(x='rol', hue='sexo', data=merged_df)\n",
    "plt.title('Distribución de Incidentes por Rol y Sexo')\n",
    "plt.show()"
   ]
  },
  {
   "cell_type": "code",
   "execution_count": null,
   "id": "53a7b757",
   "metadata": {},
   "outputs": [],
   "source": [
    "import pandas as pd\n",
    "\n",
    "# Paso 1: Calcular la tasa de homicidios para el último semestre\n",
    "ultimo_semestre = h_hechos_dfcleaned[h_hechos_dfcleaned['fecha'] >= '2022-06-01']\n",
    "homicidios_ultimo_semestre = ultimo_semestre['nro_victimas'].sum()\n",
    "poblacion_ultimo_semestre = ultimo_semestre['Poblacion_Total'].iloc[0]  # Supongo que la población es constante para todo el semestre\n",
    "\n",
    "tasa_ultimo_semestre = (homicidios_ultimo_semestre / poblacion_ultimo_semestre) * 100000\n",
    "\n",
    "# Paso 2: Calcular la tasa de homicidios para el semestre anterior\n",
    "semestre_anterior = h_hechos_dfcleaned[(h_hechos_dfcleaned['fecha'] >= '2022-01-01') & (h_hechos_dfcleaned['fecha'] < '2022-06-01')]\n",
    "homicidios_semestre_anterior = semestre_anterior['nro_victimas'].sum()\n",
    "poblacion_semestre_anterior = semestre_anterior['Poblacion_Total'].iloc[0]\n",
    "\n",
    "tasa_semestre_anterior = (homicidios_semestre_anterior / poblacion_semestre_anterior) * 100000\n",
    "\n",
    "# Paso 3: Calcular la reducción porcentual\n",
    "reduccion_porcentual = ((tasa_semestre_anterior - tasa_ultimo_semestre) / tasa_semestre_anterior) * 100\n",
    "\n",
    "# Imprimir resultados\n",
    "print(f\"Tasa de homicidios del último semestre: {tasa_ultimo_semestre:.2f} por 100,000 habitantes\")\n",
    "print(f\"Tasa de homicidios del semestre anterior: {tasa_semestre_anterior:.2f} por 100,000 habitantes\")\n",
    "print(f\"Reducción porcentual: {reduccion_porcentual:.2f}%\")\n"
   ]
  }
 ],
 "metadata": {
  "kernelspec": {
   "display_name": "Python 3 (ipykernel)",
   "language": "python",
   "name": "python3"
  },
  "language_info": {
   "codemirror_mode": {
    "name": "ipython",
    "version": 3
   },
   "file_extension": ".py",
   "mimetype": "text/x-python",
   "name": "python",
   "nbconvert_exporter": "python",
   "pygments_lexer": "ipython3",
   "version": "3.10.9"
  }
 },
 "nbformat": 4,
 "nbformat_minor": 5
}
