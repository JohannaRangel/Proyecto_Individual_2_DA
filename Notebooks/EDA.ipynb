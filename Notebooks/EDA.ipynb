{
 "cells": [
  {
   "cell_type": "markdown",
   "id": "ca3069e2",
   "metadata": {},
   "source": [
    "# EDA (Exploratory Data Analysis) "
   ]
  },
  {
   "cell_type": "markdown",
   "id": "c2e6609c",
   "metadata": {},
   "source": [
    "Luego del proceso de Extracción, Transformación y Carga (ETL) que culminó en la creación del conjunto de datos consolidado **'homicidios_cleaned.csv y lesiones_cleaned.csv'** (productos de la unión de 'HECHOS' y 'VICTIMAS' de los archivos homicidios.xlsx y lesiones.xlsx), procederemos al Análisis Exploratorio de Datos (EDA) que no es más que un acto de inmersión en el compendio completo de eventos trágicos que queremos explorar y entender a fondo.\n",
    "\n",
    "Durante el EDA, nos sumergimos en este conjunto de datos para comprender su estructura, abordar posibles outliers, identificar duplicados y gestionar valores faltantes. La riqueza de este análisis radica en la capacidad de revelar patrones, tendencias y relaciones entre variables, todo respaldado por visualizaciones pertinentes. A través de este proceso, buscamos extraer información valiosa que impulse futuras investigaciones y acciones relacionadas con la seguridad vial en la Ciudad de Buenos Aires - Argentina."
   ]
  },
  {
   "cell_type": "markdown",
   "id": "d6313bad",
   "metadata": {},
   "source": [
    "## 1. Importar Librerías"
   ]
  },
  {
   "cell_type": "code",
   "execution_count": 1,
   "id": "6644c417",
   "metadata": {},
   "outputs": [],
   "source": [
    "import pandas as pd\n",
    "import seaborn as sns\n",
    "import matplotlib.pyplot as plt\n",
    "import warnings\n",
    "from functions import data_cleaning\n",
    "\n",
    "# Ignorar las advertencias de Seaborn\n",
    "warnings.filterwarnings(\"ignore\")"
   ]
  },
  {
   "cell_type": "markdown",
   "id": "8530be8b",
   "metadata": {},
   "source": [
    "## 2. Cargar Datos"
   ]
  },
  {
   "cell_type": "markdown",
   "id": "0c58f52c",
   "metadata": {},
   "source": [
    "En la etapa inicial de nuestro proceso, abordamos los archivos originales **'homicidios.xlsx' y 'lesiones.xlsx'**, cada uno compuesto por dos hojas de datos: HECHOS y VICTIMAS. Durante la fase de Extracción, Transformación y Carga (ETL), optamos por fusionar estas hojas mediante un merge, generando así dos archivos resultantes: **'homicidios_cleaned.csv' y 'lesiones_cleaned.csv'**. Estos archivos han sido sometidos a un proceso exhaustivo de tratamiento y limpieza de datos.\n",
    "\n",
    "Ahora, en esta fase de análisis exploratorio, se presenta la siguiente decisión estratégica. Consideraremos la opción de concatenar los archivos limpios **'homicidios_cleaned.csv' y 'lesiones_cleaned.csv'**, uniendo así la información de homicidios y lesiones bajo un conjunto de datos unificado denominado **'siniestros_viales'**. Esta decisión se tomará tras una evaluación más profunda de los datos, permitiéndonos obtener una perspectiva integral de los incidentes viales y sus implicaciones."
   ]
  },
  {
   "cell_type": "code",
   "execution_count": 2,
   "id": "bb96f644",
   "metadata": {},
   "outputs": [],
   "source": [
    "# Cargar datasets\n",
    "\n",
    "homicidios_df = pd.read_csv('homicidios_cleaned.csv')\n",
    "lesiones_df = pd.read_csv('lesiones_cleaned.csv')"
   ]
  },
  {
   "cell_type": "code",
   "execution_count": 3,
   "id": "8598a27a",
   "metadata": {},
   "outputs": [
    {
     "data": {
      "text/html": [
       "<div>\n",
       "<style scoped>\n",
       "    .dataframe tbody tr th:only-of-type {\n",
       "        vertical-align: middle;\n",
       "    }\n",
       "\n",
       "    .dataframe tbody tr th {\n",
       "        vertical-align: top;\n",
       "    }\n",
       "\n",
       "    .dataframe thead th {\n",
       "        text-align: right;\n",
       "    }\n",
       "</style>\n",
       "<table border=\"1\" class=\"dataframe\">\n",
       "  <thead>\n",
       "    <tr style=\"text-align: right;\">\n",
       "      <th></th>\n",
       "      <th>id_siniestro</th>\n",
       "      <th>nro_victimas</th>\n",
       "      <th>fecha</th>\n",
       "      <th>franja_hora</th>\n",
       "      <th>tipo_calle</th>\n",
       "      <th>comuna</th>\n",
       "      <th>longitud</th>\n",
       "      <th>latitud</th>\n",
       "      <th>vehiculo_victima</th>\n",
       "      <th>vehiculo_acusado</th>\n",
       "      <th>sexo</th>\n",
       "      <th>edad</th>\n",
       "      <th>gravedad</th>\n",
       "    </tr>\n",
       "  </thead>\n",
       "  <tbody>\n",
       "    <tr>\n",
       "      <th>0</th>\n",
       "      <td>2016-0001</td>\n",
       "      <td>1</td>\n",
       "      <td>2016-01-01</td>\n",
       "      <td>4.0</td>\n",
       "      <td>avenida</td>\n",
       "      <td>8</td>\n",
       "      <td>-58.47533969</td>\n",
       "      <td>-34.68757022</td>\n",
       "      <td>moto</td>\n",
       "      <td>auto</td>\n",
       "      <td>masculino</td>\n",
       "      <td>19.0</td>\n",
       "      <td>fatal</td>\n",
       "    </tr>\n",
       "    <tr>\n",
       "      <th>1</th>\n",
       "      <td>2016-0002</td>\n",
       "      <td>1</td>\n",
       "      <td>2016-01-02</td>\n",
       "      <td>1.0</td>\n",
       "      <td>gral paz</td>\n",
       "      <td>9</td>\n",
       "      <td>-58.50877521</td>\n",
       "      <td>-34.66977709</td>\n",
       "      <td>auto</td>\n",
       "      <td>pasajeros</td>\n",
       "      <td>masculino</td>\n",
       "      <td>70.0</td>\n",
       "      <td>fatal</td>\n",
       "    </tr>\n",
       "    <tr>\n",
       "      <th>2</th>\n",
       "      <td>2016-0003</td>\n",
       "      <td>1</td>\n",
       "      <td>2016-01-03</td>\n",
       "      <td>7.0</td>\n",
       "      <td>avenida</td>\n",
       "      <td>1</td>\n",
       "      <td>-58.39040293</td>\n",
       "      <td>-34.63189362</td>\n",
       "      <td>moto</td>\n",
       "      <td>auto</td>\n",
       "      <td>masculino</td>\n",
       "      <td>30.0</td>\n",
       "      <td>fatal</td>\n",
       "    </tr>\n",
       "  </tbody>\n",
       "</table>\n",
       "</div>"
      ],
      "text/plain": [
       "  id_siniestro  nro_victimas       fecha  franja_hora tipo_calle  comuna  \\\n",
       "0    2016-0001             1  2016-01-01          4.0    avenida       8   \n",
       "1    2016-0002             1  2016-01-02          1.0   gral paz       9   \n",
       "2    2016-0003             1  2016-01-03          7.0    avenida       1   \n",
       "\n",
       "       longitud       latitud vehiculo_victima vehiculo_acusado       sexo  \\\n",
       "0  -58.47533969  -34.68757022             moto             auto  masculino   \n",
       "1  -58.50877521  -34.66977709             auto        pasajeros  masculino   \n",
       "2  -58.39040293  -34.63189362             moto             auto  masculino   \n",
       "\n",
       "   edad gravedad  \n",
       "0  19.0    fatal  \n",
       "1  70.0    fatal  \n",
       "2  30.0    fatal  "
      ]
     },
     "execution_count": 3,
     "metadata": {},
     "output_type": "execute_result"
    }
   ],
   "source": [
    "homicidios_df.head(3)"
   ]
  },
  {
   "cell_type": "code",
   "execution_count": 4,
   "id": "353ea9fa",
   "metadata": {},
   "outputs": [
    {
     "data": {
      "text/html": [
       "<div>\n",
       "<style scoped>\n",
       "    .dataframe tbody tr th:only-of-type {\n",
       "        vertical-align: middle;\n",
       "    }\n",
       "\n",
       "    .dataframe tbody tr th {\n",
       "        vertical-align: top;\n",
       "    }\n",
       "\n",
       "    .dataframe thead th {\n",
       "        text-align: right;\n",
       "    }\n",
       "</style>\n",
       "<table border=\"1\" class=\"dataframe\">\n",
       "  <thead>\n",
       "    <tr style=\"text-align: right;\">\n",
       "      <th></th>\n",
       "      <th>id_siniestro</th>\n",
       "      <th>nro_victimas</th>\n",
       "      <th>fecha</th>\n",
       "      <th>franja_hora</th>\n",
       "      <th>tipo_calle</th>\n",
       "      <th>comuna</th>\n",
       "      <th>longitud</th>\n",
       "      <th>latitud</th>\n",
       "      <th>vehiculo_victima</th>\n",
       "      <th>vehiculo_acusado</th>\n",
       "      <th>sexo</th>\n",
       "      <th>edad</th>\n",
       "      <th>gravedad</th>\n",
       "    </tr>\n",
       "  </thead>\n",
       "  <tbody>\n",
       "    <tr>\n",
       "      <th>0</th>\n",
       "      <td>LC-2019-0000179</td>\n",
       "      <td>1</td>\n",
       "      <td>2019-01-01 00:00:00</td>\n",
       "      <td>9.0</td>\n",
       "      <td>NaN</td>\n",
       "      <td>14.0</td>\n",
       "      <td>-58.408911</td>\n",
       "      <td>-34.559658</td>\n",
       "      <td>ciclista</td>\n",
       "      <td>NaN</td>\n",
       "      <td>NaN</td>\n",
       "      <td>NaN</td>\n",
       "      <td>leve</td>\n",
       "    </tr>\n",
       "    <tr>\n",
       "      <th>1</th>\n",
       "      <td>LC-2019-0000053</td>\n",
       "      <td>1</td>\n",
       "      <td>2019-01-01 00:00:00</td>\n",
       "      <td>1.0</td>\n",
       "      <td>NaN</td>\n",
       "      <td>8.0</td>\n",
       "      <td>-58.443510</td>\n",
       "      <td>-34.669125</td>\n",
       "      <td>auto</td>\n",
       "      <td>NaN</td>\n",
       "      <td>masculino</td>\n",
       "      <td>57.0</td>\n",
       "      <td>leve</td>\n",
       "    </tr>\n",
       "    <tr>\n",
       "      <th>2</th>\n",
       "      <td>LC-2019-0000063</td>\n",
       "      <td>1</td>\n",
       "      <td>2019-01-01 00:00:00</td>\n",
       "      <td>2.0</td>\n",
       "      <td>NaN</td>\n",
       "      <td>8.0</td>\n",
       "      <td>-58.468335</td>\n",
       "      <td>-34.677556</td>\n",
       "      <td>NaN</td>\n",
       "      <td>NaN</td>\n",
       "      <td>NaN</td>\n",
       "      <td>NaN</td>\n",
       "      <td>leve</td>\n",
       "    </tr>\n",
       "  </tbody>\n",
       "</table>\n",
       "</div>"
      ],
      "text/plain": [
       "      id_siniestro  nro_victimas                fecha  franja_hora tipo_calle  \\\n",
       "0  LC-2019-0000179             1  2019-01-01 00:00:00          9.0        NaN   \n",
       "1  LC-2019-0000053             1  2019-01-01 00:00:00          1.0        NaN   \n",
       "2  LC-2019-0000063             1  2019-01-01 00:00:00          2.0        NaN   \n",
       "\n",
       "   comuna   longitud    latitud vehiculo_victima vehiculo_acusado       sexo  \\\n",
       "0    14.0 -58.408911 -34.559658         ciclista              NaN        NaN   \n",
       "1     8.0 -58.443510 -34.669125             auto              NaN  masculino   \n",
       "2     8.0 -58.468335 -34.677556              NaN              NaN        NaN   \n",
       "\n",
       "   edad gravedad  \n",
       "0   NaN     leve  \n",
       "1  57.0     leve  \n",
       "2   NaN     leve  "
      ]
     },
     "execution_count": 4,
     "metadata": {},
     "output_type": "execute_result"
    }
   ],
   "source": [
    "lesiones_df.head(3)"
   ]
  },
  {
   "cell_type": "markdown",
   "id": "319c0871",
   "metadata": {},
   "source": [
    "## 3.Explorar Dataset"
   ]
  },
  {
   "cell_type": "code",
   "execution_count": 5,
   "id": "0ccb1669",
   "metadata": {},
   "outputs": [
    {
     "data": {
      "text/plain": [
       "(717, 13)"
      ]
     },
     "execution_count": 5,
     "metadata": {},
     "output_type": "execute_result"
    }
   ],
   "source": [
    "homicidios_df.shape"
   ]
  },
  {
   "cell_type": "code",
   "execution_count": 6,
   "id": "4b39e6ae",
   "metadata": {},
   "outputs": [
    {
     "data": {
      "text/plain": [
       "(27599, 13)"
      ]
     },
     "execution_count": 6,
     "metadata": {},
     "output_type": "execute_result"
    }
   ],
   "source": [
    "lesiones_df.shape"
   ]
  },
  {
   "cell_type": "code",
   "execution_count": 7,
   "id": "192ae1b4",
   "metadata": {},
   "outputs": [
    {
     "name": "stdout",
     "output_type": "stream",
     "text": [
      "                  Nulos  Porcentaje\n",
      "id_siniestro          0    0.000000\n",
      "nro_victimas          0    0.000000\n",
      "fecha                 0    0.000000\n",
      "franja_hora           1    0.139470\n",
      "tipo_calle            0    0.000000\n",
      "comuna                0    0.000000\n",
      "longitud              0    0.000000\n",
      "latitud               0    0.000000\n",
      "vehiculo_victima      9    1.255230\n",
      "vehiculo_acusado     23    3.207810\n",
      "sexo                  6    0.836820\n",
      "edad                 53    7.391911\n",
      "gravedad              0    0.000000\n"
     ]
    }
   ],
   "source": [
    "# Obtener el conteo de nulos por columna de homicidios_df\n",
    "null_count = homicidios_df.isnull().sum()\n",
    "\n",
    "# Obtener el porcentaje de nulos por columna\n",
    "null_percentage = (homicidios_df.isnull().mean()) * 100\n",
    "\n",
    "# Crear un nuevo DataFrame con la información de conteo y porcentaje\n",
    "null_info = pd.DataFrame({\n",
    "    'Nulos': null_count,\n",
    "    'Porcentaje': null_percentage\n",
    "})\n",
    "\n",
    "# Imprimir el nuevo DataFrame\n",
    "print(null_info)"
   ]
  },
  {
   "cell_type": "code",
   "execution_count": 8,
   "id": "0bb392fd",
   "metadata": {},
   "outputs": [
    {
     "name": "stdout",
     "output_type": "stream",
     "text": [
      "                  Nulos  Porcentaje\n",
      "id_siniestro          0    0.000000\n",
      "nro_victimas          0    0.000000\n",
      "fecha                 0    0.000000\n",
      "franja_hora           9    0.032610\n",
      "tipo_calle        12880   46.668358\n",
      "comuna             1625    5.887894\n",
      "longitud           1657    6.003841\n",
      "latitud            1657    6.003841\n",
      "vehiculo_victima  12823   46.461828\n",
      "vehiculo_acusado  17919   64.926265\n",
      "sexo               2228    8.072756\n",
      "edad               4471   16.199862\n",
      "gravedad              0    0.000000\n"
     ]
    }
   ],
   "source": [
    "# Obtener el conteo de nulos por columna de lesiones_df\n",
    "null_count = lesiones_df.isnull().sum()\n",
    "\n",
    "# Obtener el porcentaje de nulos por columna\n",
    "null_percentage = (lesiones_df.isnull().mean()) * 100\n",
    "\n",
    "# Crear un nuevo DataFrame con la información de conteo y porcentaje\n",
    "null_info = pd.DataFrame({\n",
    "    'Nulos': null_count,\n",
    "    'Porcentaje': null_percentage\n",
    "})\n",
    "\n",
    "# Imprimir el nuevo DataFrame\n",
    "print(null_info)"
   ]
  },
  {
   "cell_type": "markdown",
   "id": "4e808c3f",
   "metadata": {},
   "source": [
    "Estoy fundamentando el análisis en la identificación de datos nulos los cuales fueron tratados durante la fase de ETL. Aunque no se logró la imputación completa de todos los nulos, opté por no eliminar registros con el fin de evitar sesgar los resultados. Al observar los porcentajes obtenidos, destacamos:\n",
    "\n",
    "**Análisis del DataFrame 'homicidios_df':**\n",
    "- La columna 'franja_hora' tiene solo un valor nulo (0.14%), lo cual no es significativo.\n",
    "- Las columnas 'vehiculo_victima', 'vehiculo_acusado', 'sexo' y 'edad' tienen algunos nulos, pero en términos porcentuales son relativamente bajos.\n",
    "\n",
    "**Análisis del DataFrame 'lesionados_df':**\n",
    "- Las columnas 'comuna', 'longitud', 'latitud', 'sexo', 'edad', 'tipo_calle', 'vehiculo_victima', 'vehiculo_acusado', todas tienen nulos pero para las tres últimas columnas mencionadas el porcentaje es considerable superando el 45%.\n",
    "\n",
    "\n",
    "Dado que ambos dataframes tienen información significativa sobre las víctimas y las circunstancias de los siniestros, sería beneficioso concatenarlos verticalmente para tener una visión más completa. Sin embargo, las columnas 'tipo_calle', 'vehiculo_victima' y 'vehiculo_acusado' en función de su relevancia para los objetivos del análisis se abordarán sólo para los siniestros de gravedad fatal."
   ]
  },
  {
   "cell_type": "code",
   "execution_count": 9,
   "id": "72cdceaf",
   "metadata": {},
   "outputs": [
    {
     "name": "stdout",
     "output_type": "stream",
     "text": [
      "(28316, 13)\n"
     ]
    }
   ],
   "source": [
    "# Concatenar los dos DataFrames verticalmente \n",
    "\n",
    "siniestros = pd.concat([homicidios_df, lesiones_df], ignore_index=True)\n",
    "\n",
    "# Verifica el resultado\n",
    "print(siniestros.shape) "
   ]
  },
  {
   "cell_type": "code",
   "execution_count": 10,
   "id": "d69d3931",
   "metadata": {},
   "outputs": [
    {
     "name": "stdout",
     "output_type": "stream",
     "text": [
      "<class 'pandas.core.frame.DataFrame'>\n",
      "RangeIndex: 28316 entries, 0 to 28315\n",
      "Data columns (total 13 columns):\n",
      " #   Column            Non-Null Count  Dtype  \n",
      "---  ------            --------------  -----  \n",
      " 0   id_siniestro      28316 non-null  object \n",
      " 1   nro_victimas      28316 non-null  int64  \n",
      " 2   fecha             28316 non-null  object \n",
      " 3   franja_hora       28306 non-null  float64\n",
      " 4   tipo_calle        15436 non-null  object \n",
      " 5   comuna            26691 non-null  float64\n",
      " 6   longitud          26659 non-null  object \n",
      " 7   latitud           26659 non-null  object \n",
      " 8   vehiculo_victima  15484 non-null  object \n",
      " 9   vehiculo_acusado  10374 non-null  object \n",
      " 10  sexo              26082 non-null  object \n",
      " 11  edad              23792 non-null  float64\n",
      " 12  gravedad          28316 non-null  object \n",
      "dtypes: float64(3), int64(1), object(9)\n",
      "memory usage: 2.8+ MB\n"
     ]
    }
   ],
   "source": [
    "siniestros.info()"
   ]
  },
  {
   "cell_type": "code",
   "execution_count": 11,
   "id": "1593d98e",
   "metadata": {},
   "outputs": [],
   "source": [
    "# Convertir a entero\n",
    "\n",
    "columns_to_int = [ 'nro_victimas']"
   ]
  },
  {
   "cell_type": "code",
   "execution_count": 12,
   "id": "f0564c0f",
   "metadata": {},
   "outputs": [],
   "source": [
    "# Convertir fecha\n",
    "\n",
    "columns_to_convert = ['fecha']"
   ]
  },
  {
   "cell_type": "code",
   "execution_count": 13,
   "id": "999ad342",
   "metadata": {},
   "outputs": [],
   "source": [
    "# Categorización de columnas\n",
    "\n",
    "columns_to_categorize = ['franja_hora', 'tipo_calle', 'comuna', 'vehiculo_victima', \n",
    "                         'vehiculo_acusado', 'sexo', 'edad', 'gravedad']"
   ]
  },
  {
   "cell_type": "code",
   "execution_count": 14,
   "id": "1b1f8825",
   "metadata": {},
   "outputs": [],
   "source": [
    "# Invocamos la función 'data_cleaning' para que haga el proceso de transformación de los datos \n",
    "\n",
    "siniestros_df = data_cleaning(siniestros,\n",
    "                              convert_to_int_columns=columns_to_int, #Conversión entero\n",
    "                              convert_to_datetime=columns_to_convert, #COnversión fecha\n",
    "                              categorize_columns=columns_to_categorize # Categorizar columnas\n",
    "                             )"
   ]
  },
  {
   "cell_type": "markdown",
   "id": "3827440d",
   "metadata": {},
   "source": [
    "La categorización de ciertas columnas en un conjunto de datos tiene varios beneficios en el proceso de análisis de datos. A continuación, se justifica la categorización de las columnas que seleccionamos:\n",
    "\n",
    "`franja_hora`: Categorizar la franja horaria puede ayudar a agrupar y analizar patrones en diferentes momentos del día, como las horas pico o las horas de menor incidencia. Facilita la identificación de tendencias temporales en la ocurrencia de siniestros viales.\n",
    "\n",
    "`tipo_calle`: La categorización del tipo de calle permite analizar la relación entre el tipo de vía y la frecuencia de siniestros. Puede revelar si ciertos tipos de calles están asociados con una mayor incidencia de incidentes viales.\n",
    "\n",
    "`comuna`: Categorizar las comunas puede simplificar el análisis geográfico y facilitar la identificación de áreas específicas con tasas de siniestralidad distintas. Ayuda a entender la distribución espacial de los incidentes en la ciudad.\n",
    "\n",
    "`vehiculo_victima y vehiculo_acusado`: Categorizar los tipos de vehículos involucrados proporciona una visión más clara de los escenarios de siniestros. Permite identificar si ciertos tipos de vehículos están más propensos a estar involucrados en accidentes y si hay patrones específicos de interacción entre vehículos.\n",
    "\n",
    "`sexo`: La categorización del sexo facilita el análisis de la distribución de siniestros entre géneros. Puede ayudar a identificar si hay disparidades significativas en la frecuencia de incidentes viales entre diferentes grupos de género.\n",
    "\n",
    "`edad`: Categorizar la edad puede agrupar a las personas en rangos etarios, lo que simplifica el análisis demográfico. Permite identificar si ciertos grupos de edad están más afectados por los siniestros y si hay tendencias específicas en grupos de población.\n",
    "\n",
    "`gravedad`: La categorización de la gravedad permite clasificar los incidentes en diferentes niveles de seriedad. Facilita el análisis de la distribución de la gravedad de los siniestros y la identificación de patrones relacionados con lesiones o daños más severos."
   ]
  },
  {
   "cell_type": "code",
   "execution_count": 17,
   "id": "5af5109f",
   "metadata": {},
   "outputs": [
    {
     "data": {
      "text/html": [
       "<div>\n",
       "<style scoped>\n",
       "    .dataframe tbody tr th:only-of-type {\n",
       "        vertical-align: middle;\n",
       "    }\n",
       "\n",
       "    .dataframe tbody tr th {\n",
       "        vertical-align: top;\n",
       "    }\n",
       "\n",
       "    .dataframe thead th {\n",
       "        text-align: right;\n",
       "    }\n",
       "</style>\n",
       "<table border=\"1\" class=\"dataframe\">\n",
       "  <thead>\n",
       "    <tr style=\"text-align: right;\">\n",
       "      <th></th>\n",
       "      <th>nro_victimas</th>\n",
       "      <th>franja_hora</th>\n",
       "      <th>comuna</th>\n",
       "      <th>edad</th>\n",
       "    </tr>\n",
       "  </thead>\n",
       "  <tbody>\n",
       "    <tr>\n",
       "      <th>count</th>\n",
       "      <td>28316.000000</td>\n",
       "      <td>28306.000000</td>\n",
       "      <td>26691.000000</td>\n",
       "      <td>23792.000000</td>\n",
       "    </tr>\n",
       "    <tr>\n",
       "      <th>mean</th>\n",
       "      <td>1.413300</td>\n",
       "      <td>13.495831</td>\n",
       "      <td>7.929527</td>\n",
       "      <td>37.849445</td>\n",
       "    </tr>\n",
       "    <tr>\n",
       "      <th>std</th>\n",
       "      <td>1.076291</td>\n",
       "      <td>5.635586</td>\n",
       "      <td>4.545744</td>\n",
       "      <td>15.379509</td>\n",
       "    </tr>\n",
       "    <tr>\n",
       "      <th>min</th>\n",
       "      <td>0.000000</td>\n",
       "      <td>0.000000</td>\n",
       "      <td>0.000000</td>\n",
       "      <td>0.000000</td>\n",
       "    </tr>\n",
       "    <tr>\n",
       "      <th>25%</th>\n",
       "      <td>1.000000</td>\n",
       "      <td>10.000000</td>\n",
       "      <td>4.000000</td>\n",
       "      <td>27.000000</td>\n",
       "    </tr>\n",
       "    <tr>\n",
       "      <th>50%</th>\n",
       "      <td>1.000000</td>\n",
       "      <td>14.000000</td>\n",
       "      <td>8.000000</td>\n",
       "      <td>35.000000</td>\n",
       "    </tr>\n",
       "    <tr>\n",
       "      <th>75%</th>\n",
       "      <td>1.000000</td>\n",
       "      <td>18.000000</td>\n",
       "      <td>12.000000</td>\n",
       "      <td>46.000000</td>\n",
       "    </tr>\n",
       "    <tr>\n",
       "      <th>max</th>\n",
       "      <td>16.000000</td>\n",
       "      <td>23.000000</td>\n",
       "      <td>15.000000</td>\n",
       "      <td>100.000000</td>\n",
       "    </tr>\n",
       "  </tbody>\n",
       "</table>\n",
       "</div>"
      ],
      "text/plain": [
       "       nro_victimas   franja_hora        comuna          edad\n",
       "count  28316.000000  28306.000000  26691.000000  23792.000000\n",
       "mean       1.413300     13.495831      7.929527     37.849445\n",
       "std        1.076291      5.635586      4.545744     15.379509\n",
       "min        0.000000      0.000000      0.000000      0.000000\n",
       "25%        1.000000     10.000000      4.000000     27.000000\n",
       "50%        1.000000     14.000000      8.000000     35.000000\n",
       "75%        1.000000     18.000000     12.000000     46.000000\n",
       "max       16.000000     23.000000     15.000000    100.000000"
      ]
     },
     "execution_count": 17,
     "metadata": {},
     "output_type": "execute_result"
    }
   ],
   "source": [
    "siniestros.describe()"
   ]
  },
  {
   "cell_type": "code",
   "execution_count": 16,
   "id": "b0bbd34b",
   "metadata": {
    "scrolled": false
   },
   "outputs": [
    {
     "data": {
      "image/png": "[encoded data removed]",
      "text/plain": [
       "<Figure size 1200x800 with 1 Axes>"
      ]
     },
     "metadata": {},
     "output_type": "display_data"
    }
   ],
   "source": [
    "# Calcular el porcentaje de valores nulos por columna\n",
    "porcentaje_nulos = siniestros.isnull().mean() * 100\n",
    "\n",
    "# Crear un mapa de calor (heatmap) de valores nulos con el porcentaje\n",
    "plt.figure(figsize=(12, 8))\n",
    "sns.heatmap(siniestros.isnull(), cbar=False, cmap=sns.color_palette(\"viridis\", as_cmap=True))\n",
    "\n",
    "# Agregar el texto con el porcentaje de nulos en cada columna\n",
    "for col, porcentaje in porcentaje_nulos.items():\n",
    "    plt.text(siniestros.columns.get_loc(col) + 0.5, 1200, f'{porcentaje:.2f}%', rotation=90,\n",
    "             va='center', ha='center', color='fuchsia')\n",
    "\n",
    "plt.title('Mapa de Calor de Valores Nulos con Porcentaje para Todas las Variables')\n",
    "plt.show()"
   ]
  },
  {
   "cell_type": "markdown",
   "id": "365949d3",
   "metadata": {},
   "source": [
    "\n",
    "**Análisis Descriptivo del Dataframe 'siniestros'**"
   ]
  },
  {
   "cell_type": "markdown",
   "id": "d471d1ac",
   "metadata": {},
   "source": [
    "El conjunto de datos proporcionado contiene información detallada sobre 717 siniestros viales en la Ciudad Autónoma de Buenos Aires. A continuación, se presenta un análisis descriptivo para entender la naturaleza y características de los incidentes."
   ]
  },
  {
   "cell_type": "code",
   "execution_count": null,
   "id": "2818a327",
   "metadata": {},
   "outputs": [],
   "source": []
  },
  {
   "cell_type": "code",
   "execution_count": null,
   "id": "ebb3fcb0",
   "metadata": {},
   "outputs": [],
   "source": [
    "Tratar Duplicados"
   ]
  },
  {
   "cell_type": "code",
   "execution_count": null,
   "id": "9a1dc78c",
   "metadata": {},
   "outputs": [],
   "source": [
    "Identifica y elimina duplicados si existen en cualquiera de los conjuntos de datos."
   ]
  },
  {
   "cell_type": "code",
   "execution_count": null,
   "id": "c5fed635",
   "metadata": {},
   "outputs": [],
   "source": [
    "# Tratar duplicados\n",
    "hechos_df.drop_duplicates(inplace=True)\n",
    "victimas_df.drop_duplicates(inplace=True)\n",
    "lesiones_df.drop_duplicates(inplace=True)"
   ]
  },
  {
   "cell_type": "code",
   "execution_count": null,
   "id": "a8c6e65c",
   "metadata": {},
   "outputs": [],
   "source": [
    "Manejar Valores Faltantes"
   ]
  },
  {
   "cell_type": "code",
   "execution_count": null,
   "id": "80066270",
   "metadata": {},
   "outputs": [],
   "source": [
    "Analiza la presencia de valores nulos y toma decisiones sobre cómo manejarlos."
   ]
  },
  {
   "cell_type": "code",
   "execution_count": null,
   "id": "a8927514",
   "metadata": {},
   "outputs": [],
   "source": [
    "# Verificar valores nulos\n",
    "print(\"Hechos DF - Nulos:\")\n",
    "print(hechos_df.isnull().sum())\n",
    "\n",
    "print(\"Víctimas DF - Nulos:\")\n",
    "print(victimas_df.isnull().sum())\n",
    "\n",
    "print(\"Lesiones DF - Nulos:\")\n",
    "print(lesiones_df.isnull().sum())\n"
   ]
  },
  {
   "cell_type": "code",
   "execution_count": null,
   "id": "71779b67",
   "metadata": {},
   "outputs": [],
   "source": [
    "Análisis de Outliers"
   ]
  },
  {
   "cell_type": "code",
   "execution_count": null,
   "id": "cdd3ea5f",
   "metadata": {},
   "outputs": [],
   "source": [
    "Utiliza gráficos como boxplot o scatterplot para identificar posibles outliers en columnas numéricas."
   ]
  },
  {
   "cell_type": "code",
   "execution_count": null,
   "id": "ec4cc94e",
   "metadata": {},
   "outputs": [],
   "source": [
    "import seaborn as sns\n",
    "import matplotlib.pyplot as plt\n",
    "\n",
    "# Análisis de outliers\n",
    "sns.boxplot(x=hechos_df[\"EDAD\"])\n",
    "plt.title(\"Boxplot de Edades en Hechos\")\n",
    "plt.show()\n"
   ]
  },
  {
   "cell_type": "code",
   "execution_count": null,
   "id": "7bdac200",
   "metadata": {},
   "outputs": [],
   "source": [
    "Visualización de Datos"
   ]
  },
  {
   "cell_type": "code",
   "execution_count": null,
   "id": "c3bad0c3",
   "metadata": {},
   "outputs": [],
   "source": [
    "Crea gráficos relevantes para el análisis (histogramas, gráficos de barras, etc.) para comprender mejor la distribución de los datos."
   ]
  },
  {
   "cell_type": "code",
   "execution_count": null,
   "id": "158ca82e",
   "metadata": {},
   "outputs": [],
   "source": [
    "# Histograma de Edades en Hechos\n",
    "plt.hist(hechos_df[\"EDAD\"], bins=20, color='blue', edgecolor='black')\n",
    "plt.title('Distribución de Edades en Hechos')\n",
    "plt.xlabel('Edad')\n",
    "plt.ylabel('Frecuencia')\n",
    "plt.show()\n"
   ]
  },
  {
   "cell_type": "markdown",
   "id": "39792c32",
   "metadata": {},
   "source": [
    "**EN LA COLUMNA ID, se visualiza que hay saltos en la numeracion**"
   ]
  },
  {
   "cell_type": "markdown",
   "id": "6c6108d8",
   "metadata": {},
   "source": [
    "**EN EL ARCHIVO LESIONES solo tenemos información de los años 2019 al 2021.\n",
    "MIENTRAS QUE EN HOMICIDIOS, tenemos desde 2016 al 2021**\n"
   ]
  },
  {
   "cell_type": "code",
   "execution_count": null,
   "id": "137a1e70",
   "metadata": {},
   "outputs": [],
   "source": [
    "Conclusiones y Documentación:"
   ]
  },
  {
   "cell_type": "code",
   "execution_count": null,
   "id": "589a4acc",
   "metadata": {},
   "outputs": [],
   "source": [
    "Añade celdas de Markdown para documentar tus análisis, decisiones y conclusiones. Justifica cualquier acción tomada."
   ]
  },
  {
   "cell_type": "code",
   "execution_count": null,
   "id": "67c82fe8",
   "metadata": {},
   "outputs": [],
   "source": [
    "## Conclusiones EDA:\n",
    "\n",
    "- Se identificaron y eliminaron duplicados en los conjuntos de datos.\n",
    "- Se realizó un análisis de valores nulos y se tomaron decisiones sobre cómo manejarlos.\n",
    "- Se visualizaron gráficos de outliers y distribuciones para entender mejor la naturaleza de los datos.\n",
    "- ...\n",
    "\n"
   ]
  },
  {
   "cell_type": "code",
   "execution_count": null,
   "id": "aecee785",
   "metadata": {},
   "outputs": [],
   "source": [
    "import seaborn as sns; sns.pairplot(df)"
   ]
  }
 ],
 "metadata": {
  "kernelspec": {
   "display_name": "Python 3 (ipykernel)",
   "language": "python",
   "name": "python3"
  },
  "language_info": {
   "codemirror_mode": {
    "name": "ipython",
    "version": 3
   },
   "file_extension": ".py",
   "mimetype": "text/x-python",
   "name": "python",
   "nbconvert_exporter": "python",
   "pygments_lexer": "ipython3",
   "version": "3.10.9"
  }
 },
 "nbformat": 4,
 "nbformat_minor": 5
}
